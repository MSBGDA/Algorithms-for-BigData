{
 "cells": [
  {
   "cell_type": "markdown",
   "metadata": {},
   "source": [
    "Algorithm 1(eliminate points-m): \n",
    "    Input: p1,p2,... , pn' (in order) where n' is the number of points in the stream. \n",
    "    Output: Skyline points S' \n",
    "    1: Let x = 24m. \n",
    "    2: Pass 1: For j : 1, 2, ..., x, let p'j be a point picked uniformly at random from the stream. \n",
    "    Let S be the set of such points.\n",
    "    3: Pass 2: \n",
    "    4: for i = 1, ..., n' do \n",
    "    5: for any p'j, if pi dominates p'j then p'j:=pi\n",
    "    6: end for \n",
    "    7: Let S'={p'1,p'2,...,p'x}.\n",
    "    8: Pass 3: \n",
    "            Delete from stream all points in S' and all points dominated by any point in S'.\n",
    "    9: return S' "
   ]
  },
  {
   "cell_type": "code",
   "execution_count": 23,
   "metadata": {},
   "outputs": [
    {
     "name": "stdout",
     "output_type": "stream",
     "text": [
      "[[14, 52], [83, 64], [64, 57], [8, 54], [19, 6], [94, 30], [67, 25], [44, 80], [78, 18], [30, 17], [51, 27], [50, 1], [52, 92], [90, 59], [44, 11], [30, 62], [65, 32], [98, 1], [33, 69], [11, 85], [51, 31], [46, 59], [26, 3], [85, 42], [32, 41], [1, 27], [73, 59], [8, 30], [48, 91], [24, 53], [30, 5], [55, 97], [44, 47], [63, 60], [11, 60], [96, 72], [99, 74], [85, 88], [44, 92], [61, 48], [93, 92], [97, 81], [13, 47], [44, 26], [50, 18], [31, 25], [4, 7], [61, 37], [80, 52], [13, 12], [38, 48], [5, 38], [51, 38], [3, 56], [51, 65], [59, 44], [67, 3], [9, 20], [64, 54], [39, 41], [46, 62], [50, 79], [82, 65], [23, 17], [18, 82], [36, 63], [53, 51], [94, 75], [9, 35], [6, 42], [62, 13], [89, 49], [83, 66], [53, 49], [63, 83], [14, 41], [46, 39], [9, 39], [42, 90], [80, 65], [64, 69], [50, 51], [44, 38], [34, 18], [44, 7], [66, 96], [100, 43], [69, 3], [69, 40], [77, 84], [28, 87], [48, 58], [74, 97], [82, 76], [84, 14], [28, 13], [97, 96], [78, 39], [41, 66], [78, 3]]\n"
     ]
    }
   ],
   "source": [
    "''' we work in two dimensions, hence m = 2 hence x = 48 \n",
    "=> this cell is here to produce 48 samples of 2 dimensions each\n",
    "hence this is point 1 of the instructions'''\n",
    "from random import randint\n",
    "randomsample = []\n",
    "for point in range(100):\n",
    "    coordinates = []\n",
    "    for coordinate in range(2): \n",
    "        coordinates.append(randint(1,100))\n",
    "    randomsample.append(coordinates)\n",
    "\n",
    "print(randomsample)\n",
    "\n",
    "# the list of 48 points should be transformed in a string "
   ]
  },
  {
   "cell_type": "code",
   "execution_count": null,
   "metadata": {},
   "outputs": [],
   "source": [
    "''' this is point 2 of the instructions '''\n",
    "'''    2: Pass 1: For j : 1, 2, ..., x, let p'j be a point picked uniformly at random from the stream. \n",
    "    Let S be the set of such points.'''\n"
   ]
  },
  {
   "cell_type": "markdown",
   "metadata": {},
   "source": [
    "Algorithm 2 (Streaming RAND): \n",
    "    1: Let n be the number of points in the input stream. \n",
    "    Let m' = 1. \n",
    "    2: while the input stream is not empty do: \n",
    "    3: let n' be the current number of points in the stream \n",
    "    4: Call eliminate points (m'log(nlogn))\n",
    "    5: If more than n'/2 points are left in the stream, m' = 2 m'\n",
    "    6: end while \n",
    "    Remark: In case the stream cannot be changed, we do not have to actually delete points from stream. \n",
    "    We only keep the skyline points found so far and consider only points in the stream that is not dominated by any found skyline points. \n",
    "        "
   ]
  },
  {
   "cell_type": "code",
   "execution_count": 1,
   "metadata": {},
   "outputs": [
    {
     "name": "stdout",
     "output_type": "stream",
     "text": [
      "hi\n"
     ]
    }
   ],
   "source": [
    "print('hi')"
   ]
  },
  {
   "cell_type": "code",
   "execution_count": null,
   "metadata": {},
   "outputs": [],
   "source": []
  }
 ],
 "metadata": {
  "kernelspec": {
   "display_name": "Python 3",
   "language": "python",
   "name": "python3"
  },
  "language_info": {
   "codemirror_mode": {
    "name": "ipython",
    "version": 3
   },
   "file_extension": ".py",
   "mimetype": "text/x-python",
   "name": "python",
   "nbconvert_exporter": "python",
   "pygments_lexer": "ipython3",
   "version": "3.8.3"
  }
 },
 "nbformat": 4,
 "nbformat_minor": 2
}
