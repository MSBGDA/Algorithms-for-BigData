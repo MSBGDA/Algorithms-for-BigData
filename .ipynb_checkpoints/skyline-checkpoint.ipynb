{
 "cells": [
  {
   "cell_type": "markdown",
   "metadata": {},
   "source": [
    "**Algorithm 1(eliminate points-m):** <br>\n",
    "    **Input:** p1,p2,... , pn' (in order) where n' is the number of points in the stream.<br> \n",
    "    **Output**: Skyline points S' <br>\n",
    "    1. Let x = 24m. \n",
    "    2. **Pass 1:** For j : 1, 2, ..., x, let p'j be a point picked uniformly at random from the stream. <br>\n",
    "    Let S be the set of such points.<br>\n",
    "    **Pass 2**\n",
    "    4. for i = 1, ..., n' do \n",
    "         * for any p'j, if pi dominates p'j then p'j:=pi\n",
    "    6. end for \n",
    "    7. Let S'={p'1,p'2,...,p'x}.\n",
    "    8. **Pass 3** \n",
    "            Delete from stream all points in S' and all points dominated by any point in S'.\n",
    "    9. return S' "
   ]
  },
  {
   "cell_type": "code",
   "execution_count": 123,
   "metadata": {},
   "outputs": [],
   "source": [
    "# generate points\n",
    "import random\n",
    "\n",
    "def generate_points(n):\n",
    "    #random.seed(a=123)\n",
    "    data = [(random.randint(0,100),random.randint(0,100)) for x in range(n)] \n",
    "    return data\n",
    "    "
   ]
  },
  {
   "cell_type": "code",
   "execution_count": 124,
   "metadata": {},
   "outputs": [],
   "source": [
    "#reservoir sampling\n",
    "m = 3 #number of skyline points\n",
    "import random\n",
    "def reservoir_sample(stream, m):\n",
    "    k = 24*m\n",
    "    reservoir = [stream[i] for i in range(k)]\n",
    "    \n",
    "    N=0\n",
    "    for t, item in enumerate(stream):\n",
    "        N += 1\n",
    "        s = random.randint(0,t)\n",
    "        if s < k:\n",
    "            reservoir[s] = item    \n",
    "\n",
    "    return reservoir"
   ]
  },
  {
   "cell_type": "code",
   "execution_count": 125,
   "metadata": {
    "scrolled": true
   },
   "outputs": [],
   "source": [
    "n = 100 #stream size\n",
    "stream = generate_points(n)"
   ]
  },
  {
   "cell_type": "code",
   "execution_count": 126,
   "metadata": {
    "scrolled": true
   },
   "outputs": [
    {
     "data": {
      "text/plain": [
       "72"
      ]
     },
     "execution_count": 126,
     "metadata": {},
     "output_type": "execute_result"
    }
   ],
   "source": [
    "selected_point =reservoir_sample(stream,m)\n",
    "len(selected_point)"
   ]
  },
  {
   "cell_type": "code",
   "execution_count": 127,
   "metadata": {},
   "outputs": [],
   "source": [
    "import random \n",
    "def dominate(stream,selected_point):\n",
    "    for i in range(n):\n",
    "        sampled_elem = random.choice(selected_point)\n",
    "        if sampled_elem < stream[i]:\n",
    "            selected_point[selected_point.index(sampled_elem)] = stream[i]\n",
    "    return selected_point\n",
    "    \n"
   ]
  },
  {
   "cell_type": "code",
   "execution_count": 128,
   "metadata": {
    "scrolled": true
   },
   "outputs": [
    {
     "data": {
      "text/plain": [
       "[(75, 86),\n",
       " (91, 33),\n",
       " (4, 14),\n",
       " (19, 77),\n",
       " (90, 11),\n",
       " (91, 33),\n",
       " (84, 20),\n",
       " (41, 42),\n",
       " (17, 11),\n",
       " (87, 47),\n",
       " (56, 41),\n",
       " (100, 48),\n",
       " (89, 2),\n",
       " (91, 66),\n",
       " (38, 69),\n",
       " (53, 4),\n",
       " (51, 3),\n",
       " (71, 89),\n",
       " (86, 46),\n",
       " (88, 12),\n",
       " (86, 46),\n",
       " (49, 89),\n",
       " (98, 29),\n",
       " (87, 93),\n",
       " (15, 34),\n",
       " (100, 48),\n",
       " (85, 80),\n",
       " (39, 69),\n",
       " (27, 50),\n",
       " (64, 20),\n",
       " (51, 28),\n",
       " (3, 2),\n",
       " (60, 56),\n",
       " (56, 41),\n",
       " (66, 10),\n",
       " (82, 89),\n",
       " (93, 29),\n",
       " (84, 36),\n",
       " (64, 20),\n",
       " (87, 93),\n",
       " (37, 85),\n",
       " (50, 89),\n",
       " (71, 89),\n",
       " (71, 89),\n",
       " (10, 98),\n",
       " (91, 33),\n",
       " (87, 21),\n",
       " (84, 20),\n",
       " (54, 36),\n",
       " (87, 88),\n",
       " (87, 88),\n",
       " (38, 69),\n",
       " (35, 85),\n",
       " (89, 2),\n",
       " (65, 71),\n",
       " (86, 46),\n",
       " (28, 77),\n",
       " (92, 30),\n",
       " (53, 4),\n",
       " (72, 77),\n",
       " (39, 87),\n",
       " (78, 52),\n",
       " (84, 36),\n",
       " (56, 41),\n",
       " (53, 4),\n",
       " (49, 89),\n",
       " (89, 2),\n",
       " (8, 15),\n",
       " (50, 89),\n",
       " (72, 77),\n",
       " (19, 65),\n",
       " (86, 48)]"
      ]
     },
     "execution_count": 128,
     "metadata": {},
     "output_type": "execute_result"
    }
   ],
   "source": [
    "skyline_points = dominate(stream,selected_point)\n",
    "skyline_points"
   ]
  },
  {
   "cell_type": "code",
   "execution_count": 129,
   "metadata": {},
   "outputs": [],
   "source": [
    "def remove_point_stream(stream,skyline_points):\n",
    "    for point in skyline_points:\n",
    "        if point in stream:\n",
    "            stream.remove(point)\n",
    "        for elem in stream:\n",
    "            if point > elem:\n",
    "                stream.remove(elem)\n",
    "    return stream\n",
    "\n",
    "    "
   ]
  },
  {
   "cell_type": "code",
   "execution_count": 130,
   "metadata": {},
   "outputs": [
    {
     "data": {
      "text/plain": [
       "[]"
      ]
     },
     "execution_count": 130,
     "metadata": {},
     "output_type": "execute_result"
    }
   ],
   "source": [
    "remove_point_stream(stream,skyline_points)"
   ]
  },
  {
   "cell_type": "markdown",
   "metadata": {},
   "source": [
    "Algorithm 2 (Streaming RAND): \n",
    "    1: Let n be the number of points in the input stream. \n",
    "    Let m' = 1. \n",
    "    2: while the input stream is not empty do: \n",
    "    3: let n' be the current number of points in the stream \n",
    "    4: Call eliminate points (m'log(nlogn))\n",
    "    5: If more than n'/2 points are left in the stream, m' = 2 m'\n",
    "    6: end while \n",
    "    Remark: In case the stream cannot be changed, we do not have to actually delete points from stream. \n",
    "    We only keep the skyline points found so far and consider only points in the stream that is not dominated by any found skyline points. \n",
    "        "
   ]
  },
  {
   "cell_type": "code",
   "execution_count": 1,
   "metadata": {},
   "outputs": [
    {
     "name": "stdout",
     "output_type": "stream",
     "text": [
      "hi\n"
     ]
    }
   ],
   "source": [
    "print('hi')"
   ]
  },
  {
   "cell_type": "code",
   "execution_count": 24,
   "metadata": {},
   "outputs": [
    {
     "data": {
      "text/plain": [
       "False"
      ]
     },
     "execution_count": 24,
     "metadata": {},
     "output_type": "execute_result"
    }
   ],
   "source": [
    "(1,2)>(1,2)"
   ]
  },
  {
   "cell_type": "code",
   "execution_count": null,
   "metadata": {},
   "outputs": [],
   "source": []
  }
 ],
 "metadata": {
  "kernelspec": {
   "display_name": "Python 3",
   "language": "python",
   "name": "python3"
  },
  "language_info": {
   "codemirror_mode": {
    "name": "ipython",
    "version": 3
   },
   "file_extension": ".py",
   "mimetype": "text/x-python",
   "name": "python",
   "nbconvert_exporter": "python",
   "pygments_lexer": "ipython3",
   "version": "3.8.3"
  }
 },
 "nbformat": 4,
 "nbformat_minor": 2
}
