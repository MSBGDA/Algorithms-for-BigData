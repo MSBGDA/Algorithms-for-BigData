{
 "cells": [
  {
   "cell_type": "markdown",
   "metadata": {},
   "source": [
    "Algorithm 1(eliminate points-m): \n",
    "    Input: p1,p2,... , pn' (in order) where n' is the number of points in the stream. \n",
    "    Output: Skyline points S' \n",
    "    1: Let x = 24m. \n",
    "    2: Pass 1: For j : 1, 2, ..., x, let p'j be a point picked uniformly at random from the stream. \n",
    "    Let S be the set of such points.\n",
    "    3: Pass 2: \n",
    "    4: for i = 1, ..., n' do \n",
    "    5: for any p'j, if pi dominates p'j then p'j:=pi\n",
    "    6: end for \n",
    "    7: Let S'={p'1,p'2,...,p'x}.\n",
    "    8: Pass 3: \n",
    "            Delete from stream all points in S' and all points dominated by any point in S'.\n",
    "    9: return S' "
   ]
  },
  {
   "cell_type": "code",
   "execution_count": 77,
   "metadata": {},
   "outputs": [],
   "source": [
    "from random import randint\n",
    "\n",
    "class stream_creation:\n",
    "    def __init__(self, stream_size, dimension):\n",
    "        self._stream_size = n \n",
    "        self._dimension = dimension \n",
    "        \n",
    "    def stream_creation(_dimension,_stream_size):\n",
    "        stream = ()\n",
    "        for point in range(_stream_size):\n",
    "            coordinates = ()\n",
    "            for coordinate in range(_dimension):\n",
    "                coordinates = coordinates + (randint(1,100),)\n",
    "            stream = stream +(coordinates,)\n",
    "        return(stream)\n",
    "\n",
    "class eliminate_points_algorithm:\n",
    "    def __init__(self,amount_skylinepoints, stream): \n",
    "        self._amount_skylinepoints = amount_skylinepoints\n",
    "        self._stream = stream \n",
    "\n",
    "    # I guess that I could remake a new tuple each time I 'remove' an element from the stream tuple \n",
    "    # but I preferred to do that way as I don't have to build an entirely new tuple each time I change a point\n",
    "    # if this doesn't sound acceptable to you then a tuple it is \n",
    "    def transform_stream_tuple_in_list(_stream):\n",
    "        stream_list= [] \n",
    "        for component in _stream:\n",
    "            stream_list.append(component)\n",
    "        return(stream_list)\n",
    "\n",
    "    def reservoir_sampling(stream,_amount_skylinepoints):\n",
    "        S = []\n",
    "        size_sample = 24*_amount_skylinepoints\n",
    "        for initial_sample in range(size_sample):\n",
    "            S.append(stream[initial_sample])\n",
    "                \n",
    "        for address_candidate_sample, candidate_sample in enumerate(stream): \n",
    "            chance = randint(0,address_candidate_sample)\n",
    "            if chance < size_sample:\n",
    "                S[chance] = candidate_sample\n",
    "        return(S) \n",
    "\n",
    "    def random_domination_from_stream_on_reservoir(stream, S):  \n",
    "        for candidate in stream:\n",
    "            chance = randint(0,len(S)-1)\n",
    "            points = 0  \n",
    "            if candidate[0]>= S[chance][0] and candidate[1]>=S[chance][1] and(candidate[0]> S[chance][0] or candidate[1]>S[chance][1]):\n",
    "                S[chance] = candidate\n",
    "        return(S)\n",
    "\n",
    "    def elimination_S_components_from_stream(stream,S):\n",
    "        for proponent in S:\n",
    "            for opponent in stream:\n",
    "                if opponent == proponent:\n",
    "                    stream.remove(opponent)\n",
    "        return(stream)\n",
    "    # the previous function is of no use if we use => instead of > here: \n",
    "    # when I tested I didn't see any real difference \n",
    "    \n",
    "    def elimination_dominated_by_S_components_from_stream(stream,S):\n",
    "    # in the next four lines I removed duplicates from S as proposed in the text to improve code efficiency \n",
    "    # it seems to work, on a big scale it took me less time to run the code with these extra four lines \n",
    "        for adress_component, component in enumerate(S):\n",
    "            for adress_other_component, other_component in enumerate(S):\n",
    "                if component == other_component and adress_component != adress_other_component:\n",
    "                    S.remove(other_component)\n",
    "         # that is very strange, if we inverse the order of the two next lines the results will be different \n",
    "         # given that I kept this order as in this one there were the fewest points left in the stream \n",
    "            for candidate in S:\n",
    "                for victim in stream:\n",
    "                    points = 0\n",
    "                    if victim in stream:\n",
    "                        if candidate[0]>= victim[0] and candidate[1]>=victim[1] and(candidate[0]> victim[0] or candidate[1]>victim[1]):\n",
    "                            stream.remove(victim)\n",
    "        return(stream)\n",
    "\n"
   ]
  },
  {
   "cell_type": "code",
   "execution_count": 78,
   "metadata": {},
   "outputs": [
    {
     "name": "stdout",
     "output_type": "stream",
     "text": [
      "1\n",
      "47\n"
     ]
    }
   ],
   "source": [
    "introduced_stream = stream_creation.stream_creation(2,1000)\n",
    "stream_list = eliminate_points_algorithm.transform_stream_tuple_in_list(introduced_stream)\n",
    "make_reservoir = eliminate_points_algorithm.reservoir_sampling(stream_list,2)\n",
    "dominate_reservoir = eliminate_points_algorithm.random_domination_from_stream_on_reservoir(stream_list,make_reservoir)\n",
    "stream_without_reservoir_points = eliminate_points_algorithm.elimination_S_components_from_stream(stream_list,dominate_reservoir)\n",
    "dominated_stream = eliminate_points_algorithm.elimination_dominated_by_S_components_from_stream(stream_without_reservoir_points,dominate_reservoir)\n",
    "print(len(dominated_stream))\n",
    "print(len(dominate_reservoir))"
   ]
  },
  {
   "cell_type": "code",
   "execution_count": 202,
   "metadata": {},
   "outputs": [
    {
     "name": "stdout",
     "output_type": "stream",
     "text": [
      "1 41 1000 24 3\n",
      "2 41 1000 48 1\n",
      "4 41 1000 85 1\n",
      "8 41 1000 182 1\n",
      "16 41 1000 328 1\n",
      "32 41 1000 531 0\n",
      "None\n"
     ]
    }
   ],
   "source": [
    "class streaming_RAND:\n",
    "    def __init__(self, stream):\n",
    "        self._stream = stream \n",
    "\n",
    "    def find_number_skylinepoints(_stream):\n",
    "        maximum_skylinepoints = (len(_stream)-1)//24\n",
    "        leftover_points_in_stream = 1 \n",
    "        skylinepoints = 1\n",
    "        while skylinepoints <= maximum_skylinepoints and leftover_points_in_stream > 0:\n",
    "            stream_list = eliminate_points_algorithm.transform_stream_tuple_in_list(_stream)\n",
    "            non_dominated_reservoir = eliminate_points_algorithm.reservoir_sampling(stream_list,skylinepoints)\n",
    "            dominated_reservoir = eliminate_points_algorithm.random_domination_from_stream_on_reservoir(stream_list,non_dominated_reservoir)\n",
    "            stream_list_with_no_reservoir_points = eliminate_points_algorithm.elimination_S_components_from_stream(stream_list,dominated_reservoir)\n",
    "            dominated_stream = eliminate_points_algorithm.elimination_dominated_by_S_components_from_stream(stream_list_with_no_reservoir_points,dominated_reservoir)\n",
    "            skylinepoints = skylinepoints*2\n",
    "            leftover_points_in_stream = len(dominated_stream)\n",
    "            print(skylinepoints//2,maximum_skylinepoints,len(_stream),len(dominated_reservoir),len(stream_list_with_no_reservoir_points))\n",
    "\n",
    "stream = stream_creation.stream_creation(4,1000)\n",
    "print(streaming_RAND.find_number_skylinepoints(stream))  "
   ]
  },
  {
   "cell_type": "code",
   "execution_count": 31,
   "metadata": {},
   "outputs": [
    {
     "name": "stdout",
     "output_type": "stream",
     "text": [
      "0\n"
     ]
    }
   ],
   "source": [
    "stream = stream_creation.stream_creation(2,1000)\n",
    "S_skylinepoints = streaming_RAND.find_number_skylinepoints(stream)\n",
    "print(S_skylinepoints)\n",
    "\n",
    "make_reservoir = eliminate_points_algorithm.reservoir_sampling(stream_list,2)\n",
    "dominate_reservoir = eliminate_points_algorithm.random_domination_from_stream_on_reservoir(stream_list,make_reservoir)\n",
    "stream_without_reservoir_points = eliminate_points_algorithm.elimination_S_components_from_stream(stream_list,dominate_reservoir)\n",
    "dominated_stream = eliminate_points_algorithm.elimination_dominated_by_S_components_from_stream(stream_without_reservoir_points,dominate_reservoir)\n",
    "print(len(dominated_stream))\n",
    "print(len(dominate_reservoir))"
   ]
  },
  {
   "cell_type": "code",
   "execution_count": null,
   "metadata": {},
   "outputs": [],
   "source": [
    "while leftover_points_in_stream != 0:\n",
    "            S_reservoir = eliminate_points_algorithm.reservoir_sampling(stream_list,skylinepoints)\n",
    "            S_dominated = eliminate_points_algorithm.random_domination_from_stream_on_reservoir(stream_list,S_reservoir)\n",
    "            stream_without_S = eliminate_points_algorithm.elimination_S_components_from_stream(stream_list,S_dominated)\n",
    "            stream_dominated = eliminate_points_algorithm.elimination_dominated_by_S_components_from_stream(stream_without_S,S_dominated)\n",
    "            leftover_points_in_stream = len(stream_dominated)-1\n",
    "            skylinepoints = skylinepoints*2 \n",
    "        return(S_dominated)"
   ]
  },
  {
   "cell_type": "code",
   "execution_count": null,
   "metadata": {},
   "outputs": [],
   "source": [
    "stream_list = eliminate_points_algorithm.transform_stream_tuple_in_list(stream)\n",
    "S_reservoir = eliminate_points_algorithm.reservoir_sampling(stream_list,1)\n",
    "S_dominated = eliminate_points_algorithm.random_domination_from_stream_on_reservoir(stream_list,S_reservoir)\n",
    "stream_without_S = eliminate_points_algorithm.elimination_S_components_from_stream(stream_list,S_dominated)\n",
    "stream_dominated = eliminate_points_algorithm.elimination_dominated_by_S_components_from_stream(stream_without_S,S_dominated)"
   ]
  },
  {
   "cell_type": "markdown",
   "metadata": {},
   "source": [
    "Algorithm 2 (Streaming RAND): \n",
    "    1: Let n be the number of points in the input stream. \n",
    "    Let m' = 1. \n",
    "    2: while the input stream is not empty do: \n",
    "    3: let n' be the current number of points in the stream \n",
    "    4: Call eliminate points (m'log(nlogn))\n",
    "    5: If more than n'/2 points are left in the stream, m' = 2 m'\n",
    "    6: end while \n",
    "    Remark: In case the stream cannot be changed, we do not have to actually delete points from stream. \n",
    "    We only keep the skyline points found so far and consider only points in the stream that is not dominated by any found skyline points. "
   ]
  },
  {
   "cell_type": "code",
   "execution_count": null,
   "metadata": {},
   "outputs": [],
   "source": []
  },
  {
   "cell_type": "code",
   "execution_count": null,
   "metadata": {},
   "outputs": [],
   "source": [
    "# archives "
   ]
  },
  {
   "cell_type": "code",
   "execution_count": 37,
   "metadata": {
    "collapsed": true
   },
   "outputs": [
    {
     "data": {
      "text/plain": [
       "\"stream_before_purge = algorithm1.stream_creation(4,1000)\\nprint(('stream_before_purge'))\\nprint(len(stream_before_purge))\\nreservoir_before_random_domination = algorithm1.reservoir_sampling(stream_before_purge,2)\\nreservoir_after_random_domination = algorithm1.random_domination_from_stream_to_reservoir(stream_before_purge,reservoir_before_random_domination)\\nprint(('reservoir_after_random_domination'))\\nprint(len(reservoir_after_random_domination))\\nstream_after_purge_reservoir = algorithm1.elimination_S_components_from_stream(stream_before_purge,reservoir_after_random_domination)\\nprint(('stream_after_purge_reservoir'))\\nprint(len(stream_after_purge_reservoir))\\nstream_after_domination = algorithm1.elimination_dominated_by_S_components_from_stream(stream_after_purge_reservoir,reservoir_after_random_domination)\\nprint(('stream_after_domination'))\\nprint(len(stream_after_domination[0]))\\nprint(('reservoir after removal duplicates'))\\nprint(len(stream_after_domination[1]))\""
      ]
     },
     "execution_count": 37,
     "metadata": {},
     "output_type": "execute_result"
    }
   ],
   "source": [
    "from random import randint\n",
    "\n",
    "class algorithm1:\n",
    "    def __init__(self,amount_skylinepoints, dimension, stream_size): \n",
    "        self._amount_skylinepoints = amount_skylinepoints\n",
    "        self._dimension = dimension \n",
    "        self._stream_size = n\n",
    "    # I guess that I could remake a new tuple each time I 'remove' an element from the stream tuple \n",
    "    # but I preferred to do that way as I don't have to build an entirely new tuple each time I change a point\n",
    "    # if this doesn't sound acceptable to you then a tuple it is \n",
    "    def transform_stream_tuple_in_list(stream):\n",
    "        stream_list= []     \n",
    "        for component in stream:\n",
    "            stream_list.append(component)\n",
    "        return(stream_list)\n",
    "    \n",
    "    def stream_creation(_dimension,_stream_size):\n",
    "        stream = ()\n",
    "        for point in range(_stream_size):\n",
    "            coordinates = ()\n",
    "            for coordinate in range(_dimension):\n",
    "                coordinates = coordinates + (randint(1,100),)\n",
    "            stream = stream +(coordinates,)\n",
    "        return(algorithm1.transform_stream_tuple_in_list(stream))\n",
    "\n",
    "    def reservoir_sampling(stream,_amount_skylinepoints):\n",
    "        if 24*_amount_skylinepoints>(len(stream)-1):\n",
    "            print('there are too many skylinepoints')\n",
    "        else: \n",
    "            S = []\n",
    "            size_sample = 24*_amount_skylinepoints\n",
    "            for initial_sample in range(size_sample):\n",
    "                S.append(stream[initial_sample])            \n",
    "\n",
    "            for address_candidate_sample, candidate_sample in enumerate(stream): \n",
    "                chance = randint(0,address_candidate_sample)\n",
    "                if chance < size_sample:\n",
    "                    S[chance] = candidate_sample\n",
    "        \n",
    "        return(S) \n",
    "    \n",
    "    def random_domination_from_stream_to_reservoir(stream, S):  \n",
    "        for candidate in stream: \n",
    "            chance = randint(0,len(S)-1)\n",
    "            if candidate[0] > S[chance][0] and candidate[1] > S[chance][1] and candidate[2] > S[chance][2] and candidate[3] > S[chance][3]:\n",
    "                S[chance] = candidate\n",
    "        return(S)\n",
    "    # if we remove this part and use >= instead of > it makes this part of the code useless \n",
    "    def elimination_S_components_from_stream(stream,S):\n",
    "        for proponent in S:\n",
    "            for opponent in stream:\n",
    "                if opponent == proponent:\n",
    "                    stream.remove(opponent)\n",
    "        return(stream)\n",
    "    \n",
    "    # the previous function is of no use if we use => instead of > here: \n",
    "    # when I tested I didn't see any real difference \n",
    "    def elimination_dominated_by_S_components_from_stream(stream,S):\n",
    "    # in the next four lines I removed duplicates from S as proposed in the text to improve code efficiency \n",
    "    # it seems to work, on a big scale it took me less time to run the code with these extra four lines \n",
    "        for adress_component, component in enumerate(S):\n",
    "            for adress_other_component, other_component in enumerate(S):\n",
    "                if component == other_component and adress_component != adress_other_component:\n",
    "                    S.remove(other_component)\n",
    "         # that is very strange, if we inverse the order of the two next lines the results will be different \n",
    "         # given that I kept this order as in this one there were the fewest points left in the stream \n",
    "            for candidate in S:\n",
    "                for victim in stream:\n",
    "                    # simply putting candidate > victim did provide results that were erroneous \n",
    "                    if victim in stream and candidate[0]>victim[0] and candidate[1]>victim[1] and candidate[2]>victim[2] and candidate[3]>victim[3]:\n",
    "                            stream.remove(victim)\n",
    "        return(stream,S)           \n",
    "\n",
    "stream_before_purge = algorithm1.stream_creation(4,1000)\n",
    "print(('stream_before_purge'))\n",
    "print(len(stream_before_purge))\n",
    "reservoir_before_random_domination = algorithm1.reservoir_sampling(stream_before_purge,2)\n",
    "reservoir_after_random_domination = algorithm1.random_domination_from_stream_to_reservoir(stream_before_purge,reservoir_before_random_domination)\n",
    "print(('reservoir_after_random_domination'))\n",
    "print(len(reservoir_after_random_domination))\n",
    "stream_after_purge_reservoir = algorithm1.elimination_S_components_from_stream(stream_before_purge,reservoir_after_random_domination)\n",
    "print(('stream_after_purge_reservoir'))\n",
    "print(len(stream_after_purge_reservoir))\n",
    "stream_after_domination = algorithm1.elimination_dominated_by_S_components_from_stream(stream_after_purge_reservoir,reservoir_after_random_domination)\n",
    "print(('stream_after_domination'))\n",
    "print(len(stream_after_domination[0]))\n",
    "print(('reservoir after removal duplicates'))\n",
    "print(len(stream_after_domination[1]))"
   ]
  },
  {
   "cell_type": "code",
   "execution_count": 79,
   "metadata": {},
   "outputs": [],
   "source": [
    "class streaming_RAND:\n",
    "    def __init__(self, stream):\n",
    "        self._stream = stream \n",
    "\n",
    "    def find_number_skylinepoints(_stream):\n",
    "        stream_list = eliminate_points_algorithm.transform_stream_tuple_in_list(_stream)\n",
    "        maximum_skylinepoints = (len(_stream)-1)//24\n",
    "        leftover_points_in_stream = 1 \n",
    "        skylinepoints = 1 \n",
    "        while leftover_points_in_stream > 0:\n",
    "            S_reservoir = eliminate_points_algorithm.reservoir_sampling(stream_list,skylinepoints)\n",
    "            S_dominated = eliminate_points_algorithm.random_domination_from_stream_on_reservoir(stream_list,S_reservoir)\n",
    "            stream_without_S = eliminate_points_algorithm.elimination_S_components_from_stream(stream_list,S_dominated)\n",
    "            stream_dominated = eliminate_points_algorithm.elimination_dominated_by_S_components_from_stream(stream_without_S,S_dominated)\n",
    "            leftover_points_in_stream = len(stream_dominated)-1\n",
    "            skylinepoints = skylinepoints*2 \n",
    "        return(leftover_points_in_stream)"
   ]
  }
 ],
 "metadata": {
  "kernelspec": {
   "display_name": "Python 3",
   "language": "python",
   "name": "python3"
  },
  "language_info": {
   "codemirror_mode": {
    "name": "ipython",
    "version": 3
   },
   "file_extension": ".py",
   "mimetype": "text/x-python",
   "name": "python",
   "nbconvert_exporter": "python",
   "pygments_lexer": "ipython3",
   "version": "3.7.1"
  }
 },
 "nbformat": 4,
 "nbformat_minor": 2
}
