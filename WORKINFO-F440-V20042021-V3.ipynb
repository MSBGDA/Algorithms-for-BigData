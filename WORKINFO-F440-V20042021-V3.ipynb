{
 "cells": [
  {
   "cell_type": "markdown",
   "metadata": {},
   "source": [
    "Algorithm 1(eliminate points-m): \n",
    "    Input: p1,p2,... , pn' (in order) where n' is the number of points in the stream. \n",
    "    Output: Skyline points S' \n",
    "    1: Let x = 24m. \n",
    "    2: Pass 1: For j : 1, 2, ..., x, let p'j be a point picked uniformly at random from the stream. \n",
    "    Let S be the set of such points.\n",
    "    3: Pass 2: \n",
    "    4: for i = 1, ..., n' do \n",
    "    5: for any p'j, if pi dominates p'j then p'j:=pi\n",
    "    6: end for \n",
    "    7: Let S'={p'1,p'2,...,p'x}.\n",
    "    8: Pass 3: \n",
    "            Delete from stream all points in S' and all points dominated by any point in S'.\n",
    "    9: return S' "
   ]
  },
  {
   "cell_type": "code",
   "execution_count": 1,
   "metadata": {},
   "outputs": [],
   "source": [
    "from random import randint\n",
    "# I think you should create one big class rather than multiple classes\n",
    "class stream_creation:\n",
    "    def __init__(self,_dimensions, stream_size):\n",
    "        self._stream_size = n # What the meaning of this n \n",
    "        self._dimensions = dimensions\n",
    "\n",
    "    def stream_creation(_dimensions, _stream_size):\n",
    "        stream = ()\n",
    "        for point in range(_stream_size):\n",
    "            coordinates = ()\n",
    "            for coordinate in range(_dimensions):\n",
    "                coordinates = coordinates + (randint(1,100),)\n",
    "            stream = stream +(coordinates,)\n",
    "        return(stream)\n",
    "    \n",
    "class eliminate_points_algorithm:\n",
    "    def __init__(self,amount_skylinepoints, stream): \n",
    "        self._amount_skylinepoints = amount_skylinepoints\n",
    "        self._stream = stream \n",
    "\n",
    "    def transform_stream_tuple_in_list(_stream):\n",
    "        stream_list= [] \n",
    "        for component in _stream:\n",
    "            stream_list.append(component)\n",
    "        return(stream_list)\n",
    "\n",
    "    def reservoir_sampling(stream,_amount_skylinepoints):\n",
    "        S = []\n",
    "        if len(stream)>24*_amount_skylinepoints:\n",
    "            size_sample = 24*_amount_skylinepoints\n",
    "            for initial_sample in range(size_sample):\n",
    "                S.append(stream[initial_sample])\n",
    "            \n",
    "            for address_candidate_sample, candidate_sample in enumerate(stream): \n",
    "                chance = randint(0,address_candidate_sample)\n",
    "                if chance < size_sample:\n",
    "                    S[chance] = candidate_sample\n",
    "        else:\n",
    "            for initial_sample in range(len(stream)):\n",
    "                S.append(stream[initial_sample])\n",
    "        return(S) \n",
    "\n",
    "    def random_domination_from_stream_on_reservoir(stream, S):  \n",
    "        for candidate in stream:\n",
    "            chance = randint(0,len(S)-1)\n",
    "            points = 0  \n",
    "            if candidate[0]>= S[chance][0] and candidate[1]>=S[chance][1] and(candidate[0]> S[chance][0] or candidate[1]>S[chance][1]):\n",
    "                S[chance] = candidate\n",
    "                stream.remove(candidate)\n",
    "        return(S,stream)\n",
    "    \n",
    "    def elimination_dominated_by_S_components_from_stream(stream,S):            \n",
    "        for victim in stream:\n",
    "            for candidate in S:\n",
    "                points = 0\n",
    "                if victim in stream:\n",
    "                    if candidate[0]>= victim[0] and candidate[1]>=victim[1] and(candidate[0]> victim[0] or candidate[1]>victim[1]):\n",
    "                        stream.remove(victim)\n",
    "        return(stream)\n",
    "\n"
   ]
  },
  {
   "cell_type": "markdown",
   "metadata": {},
   "source": [
    "Algorithm 2 (Streaming RAND): \n",
    "    1: Let n be the number of points in the input stream. \n",
    "    Let m' = 1. \n",
    "    2: while the input stream is not empty do: \n",
    "    3: let n' be the current number of points in the stream \n",
    "    4: Call eliminate points (m'log(nlogn))\n",
    "    5: If more than n'/2 points are left in the stream, m' = 2 m'\n",
    "    6: end while \n",
    "    Remark: In case the stream cannot be changed, we do not have to actually delete points from stream. \n",
    "    We only keep the skyline points found so far and consider only points in the stream that is not dominated by any found skyline points. "
   ]
  },
  {
   "cell_type": "code",
   "execution_count": 2,
   "metadata": {},
   "outputs": [],
   "source": [
    "# this is a system where we begin with the stream from what hasn't been put in the reservoir nor dominated in the last round \n",
    "# here we double the total pool or less \n",
    "class streaming_RAND:\n",
    "    def __init__(self, stream):\n",
    "        self._stream = stream \n",
    "\n",
    "    def find_skylinepoints(stream):\n",
    "        remaining_stream = eliminate_points_algorithm.transform_stream_tuple_in_list(stream)\n",
    "        skylinepoints = 1\n",
    "        total_skylinepoints = 1\n",
    "        previous_skylinepoints = 0\n",
    "        total_pool = []\n",
    "        dominated_stream = [1]\n",
    "        length_previous_stream = len([])\n",
    "        while len(remaining_stream) > 10:  \n",
    "            non_dominated_reservoir = eliminate_points_algorithm.reservoir_sampling(remaining_stream,skylinepoints)\n",
    "            dominated_reservoir_and_stream_without_reservoir = eliminate_points_algorithm.random_domination_from_stream_on_reservoir(remaining_stream,non_dominated_reservoir)\n",
    "            dominated_reservoir = dominated_reservoir_and_stream_without_reservoir[0]\n",
    "            stream_list_with_no_reservoir_points = dominated_reservoir_and_stream_without_reservoir[1]\n",
    "            dominated_stream = eliminate_points_algorithm.elimination_dominated_by_S_components_from_stream(stream_list_with_no_reservoir_points,dominated_reservoir)\n",
    "            if length_previous_stream >= 2*len(dominated_stream):\n",
    "                total_skylinepoints = total_skylinepoints*2\n",
    "            else:\n",
    "                total_skylinepoints += 1\n",
    "            previous_skylinepoints += skylinepoints \n",
    "            skylinepoints = total_skylinepoints-previous_skylinepoints\n",
    "            remaining_stream = dominated_stream\n",
    "            length_previous_stream = len(dominated_stream)\n",
    "            for component in dominated_reservoir:\n",
    "                total_pool.append(dominated_reservoir)\n",
    "            print(skylinepoints//2, len(remaining_stream),len(dominated_reservoir),len(total_pool))"
   ]
  },
  {
   "cell_type": "code",
   "execution_count": 4,
   "metadata": {},
   "outputs": [
    {
     "name": "stdout",
     "output_type": "stream",
     "text": [
      "0 3540 24 24\n",
      "1 1469 24 48\n",
      "2 636 48 96\n",
      "4 269 96 192\n",
      "8 111 192 384\n",
      "16 45 111 495\n",
      "32 21 45 540\n",
      "64 10 21 561\n",
      "None\n"
     ]
    }
   ],
   "source": [
    "stream = stream_creation.stream_creation(2,10000)\n",
    "print(streaming_RAND.find_skylinepoints(stream)) "
   ]
  },
  {
   "cell_type": "code",
   "execution_count": null,
   "metadata": {},
   "outputs": [],
   "source": []
  }
 ],
 "metadata": {
  "kernelspec": {
   "display_name": "Python 3",
   "language": "python",
   "name": "python3"
  },
  "language_info": {
   "codemirror_mode": {
    "name": "ipython",
    "version": 3
   },
   "file_extension": ".py",
   "mimetype": "text/x-python",
   "name": "python",
   "nbconvert_exporter": "python",
   "pygments_lexer": "ipython3",
   "version": "3.7.1"
  }
 },
 "nbformat": 4,
 "nbformat_minor": 2
}
