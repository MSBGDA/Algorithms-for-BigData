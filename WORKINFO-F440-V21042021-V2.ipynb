{
 "cells": [
  {
   "cell_type": "markdown",
   "metadata": {},
   "source": [
    "Algorithm 1(eliminate points-m): \n",
    "    Input: p1,p2,... , pn' (in order) where n' is the number of points in the stream. \n",
    "    Output: Skyline points S' \n",
    "    1: Let x = 24m. \n",
    "    2: Pass 1: For j : 1, 2, ..., x, let p'j be a point picked uniformly at random from the stream. \n",
    "    Let S be the set of such points.\n",
    "    3: Pass 2: \n",
    "    4: for i = 1, ..., n' do \n",
    "    5: for any p'j, if pi dominates p'j then p'j:=pi\n",
    "    6: end for \n",
    "    7: Let S'={p'1,p'2,...,p'x}.\n",
    "    8: Pass 3: \n",
    "            Delete from stream all points in S' and all points dominated by any point in S'.\n",
    "    9: return S' "
   ]
  },
  {
   "cell_type": "code",
   "execution_count": 1,
   "metadata": {},
   "outputs": [],
   "source": [
    "from random import randint\n",
    "# Each class is just to illustrate that each is one of the main steps proposed in the paper\n",
    "# otherwise these would have all been put in one single class \n",
    "# the first class is made in order to ensure a proper stream creation, this class won't be used if \n",
    "# some real life data can directly be injected in the following functions \n",
    "class stream_creation:\n",
    "    def __init__(self,_dimensions, stream_size):\n",
    "        self._stream_size = n # What the meaning of this n \n",
    "        self._dimensions = dimensions\n",
    "\n",
    "    def stream_creation(_dimensions, _stream_size):\n",
    "        stream = ()\n",
    "        for point in range(_stream_size):\n",
    "            coordinates = ()\n",
    "            for coordinate in range(_dimensions):\n",
    "                coordinates = coordinates + (randint(1,100),)\n",
    "            stream = stream +(coordinates,)\n",
    "        return(stream)\n",
    "\n",
    "# this is the first algorithm\n",
    "# it is important to note that a function from this class has been eliminated \n",
    "# that function being the delete from stream points in S function \n",
    "# the reason for this being that the computing time was five time quicker \n",
    "# the reason for the speed increase being that that function required to go over each point of the stream \n",
    "# and compare each of these points in the stream to the points in the reservoir \n",
    "# but in the previous function, where dominance from random points of stream on reservoir is done,\n",
    "# if the point is deleted from the stream just after being added to the reservoir it has a double advantage \n",
    "# the first advantage being that the deleted function had to look all points from reservoir in stream \n",
    "# but we know that the locations of these points are known during the domination from random streampoints \n",
    "# hence instead of looking it up we delete it after having put it in the reservoir \n",
    "# the second advantage being that points in the reservoir that are dominated are also eliminated afterwards \n",
    "# hence points that the reservoir would dominate and eliminate anyways in the following function \n",
    "# are already eliminated without needing to look it up another time \n",
    "class eliminate_points_algorithm:\n",
    "    # this is the activation function \n",
    "    def __init__(self,amount_skylinepoints, stream): \n",
    "        self._amount_skylinepoints = amount_skylinepoints\n",
    "        self._stream = stream \n",
    "    # as the stream has to be transformed it has to be transformed from a tuple into a list \n",
    "    def transform_stream_tuple_in_list(_stream):\n",
    "        stream_list= [] \n",
    "        for component in _stream:\n",
    "            stream_list.append(component)\n",
    "        return(stream_list)\n",
    "    # the following function creates the reservoir randomly, the first part takes the first 24*skylinepoints from stream\n",
    "    # the second part takes randomly some points and puts them in the reservoir instead of points already in there \n",
    "    def reservoir_sampling(stream,_amount_skylinepoints):\n",
    "        S = []\n",
    "        if len(stream)>24*_amount_skylinepoints:\n",
    "            size_sample = 24*_amount_skylinepoints\n",
    "            for initial_sample in range(size_sample):\n",
    "                S.append(stream[initial_sample])\n",
    "            \n",
    "            for address_candidate_sample, candidate_sample in enumerate(stream): \n",
    "                chance = randint(0,address_candidate_sample)\n",
    "                if chance < size_sample:\n",
    "                    S[chance] = candidate_sample\n",
    "        else:\n",
    "            for initial_sample in range(len(stream)):\n",
    "                S.append(stream[initial_sample])\n",
    "        return(S) \n",
    "\n",
    "    # this is the random domination function, each point from the stream is taken and compared to a random point \n",
    "    # from the reservoir, if it dominates that reservoir point it replaces it, otherwise it doesn't \n",
    "    # in both cases it is eliminated from the stream afterwards as either it is in the stream either it is equal or dominated by the reservoir \n",
    "    # if equal there is already such a point in reservoir hence it is not needed anymore as its coordinates are already in the reservoir \n",
    "    def random_domination_from_stream_on_reservoir(stream, S):  \n",
    "        for candidate in stream:\n",
    "            chance = randint(0,len(S)-1)\n",
    "            points = 0  \n",
    "            if candidate[0]>= S[chance][0] and candidate[1]>=S[chance][1] and(candidate[0]> S[chance][0] or candidate[1]>S[chance][1]):\n",
    "                S[chance] = candidate\n",
    "                stream.remove(candidate)\n",
    "        return(S,stream)\n",
    "    \n",
    "    # here the remaining points in the stream that are dominated by any point from the reservoir are eliminated \n",
    "    def elimination_dominated_by_S_components_from_stream(stream,S):            \n",
    "        for victim in stream:\n",
    "            for candidate in S:\n",
    "                points = 0\n",
    "                if victim in stream:\n",
    "                    if candidate[0]>= victim[0] and candidate[1]>=victim[1] and(candidate[0]> victim[0] or candidate[1]>victim[1]):\n",
    "                        stream.remove(victim)\n",
    "        return(stream)\n",
    "\n"
   ]
  },
  {
   "cell_type": "markdown",
   "metadata": {},
   "source": [
    "Algorithm 2 (Streaming RAND): \n",
    "    1: Let n be the number of points in the input stream. \n",
    "    Let m' = 1. \n",
    "    2: while the input stream is not empty do: \n",
    "    3: let n' be the current number of points in the stream \n",
    "    4: Call eliminate points (m'log(nlogn))\n",
    "    5: If more than n'/2 points are left in the stream, m' = 2 m'\n",
    "    6: end while \n",
    "    Remark: In case the stream cannot be changed, we do not have to actually delete points from stream. \n",
    "    We only keep the skyline points found so far and consider only points in the stream that is not dominated by any found skyline points. "
   ]
  },
  {
   "cell_type": "code",
   "execution_count": 41,
   "metadata": {},
   "outputs": [],
   "source": [
    "# the second class deals with an issue that wasn't approached by the algorithm from the first class\n",
    "# it has to find the right amount of skylinepoints \n",
    "# this is done via increasing progressively the amount of skylinepoints until there is nothing left in the stream \n",
    "class streaming_RAND:\n",
    "    def __init__(self, stream):\n",
    "        self._stream = stream \n",
    "        \n",
    "    def find_skylinepoints(stream):\n",
    "        # the remaining_stream is what takes the stream, or what is left from it as it went through the previous round\n",
    "        # the reason for this being that the points of the already made reservoir and dominated in the reservoir are \n",
    "        # already fine, the only issue being that not enough points could be taken \n",
    "        # hence it makes no sense to restart the algorithm from zero each time and compute all stream points over again \n",
    "        remaining_stream = eliminate_points_algorithm.transform_stream_tuple_in_list(stream)\n",
    "        # the total_skylinepoints keep track of the total increase in skylinepoints that will be in the total reservoir \n",
    "        # this is necessary as through the calls of the eliminate_function algorithm we already have found a pool\n",
    "        # hence if we did just took the skylinepoints and doubled it instead of doing it with the total skylinepoints \n",
    "        # the real total of skyline points that we'd get in the end would increase exponentially instead of doubling or \n",
    "        # +1 in case the size of the stream less than halves \n",
    "        skylinepoints = 1\n",
    "        total_skylinepoints = 1\n",
    "        previous_skylinepoints = 0\n",
    "        # the total pool is where all the points from the reservoirs obtained from the remove point algorithms are added up\n",
    "        # this is another consequence of choosing to only work on the remaining stream \n",
    "        total_pool = []\n",
    "        # the length of the previous stream must be known in order to know if we have to, or not, double the \n",
    "        # number of skylinepoints or simply add one skylinepoint \n",
    "        length_previous_stream = len([])\n",
    "        # a price to pay with the fusion of the two functions in the eliminate_function algorithm is that \n",
    "        # at the very end there are still few remaining dominating points that remain \n",
    "        # the algorithm couldn't deal with those points despite being dominant hence for all points the points are \n",
    "        # going through the reservoir procedure and when there are only 24 points left (or 1 skylinepoint) \n",
    "        # then all are added to the final pool as these points have gone through all the reservoir dominating runs \n",
    "        # these points could only be dominating \n",
    "        while len(remaining_stream) > 24:  \n",
    "            # in the following five lines the eliminate_points_algorithm is simply used with whatever amount of \n",
    "            # skylinepoints we decide to work on \n",
    "            non_dominated_reservoir = eliminate_points_algorithm.reservoir_sampling(remaining_stream,skylinepoints)\n",
    "            dominated_reservoir_and_stream_without_reservoir = eliminate_points_algorithm.random_domination_from_stream_on_reservoir(remaining_stream,non_dominated_reservoir)\n",
    "            dominated_reservoir = dominated_reservoir_and_stream_without_reservoir[0]\n",
    "            stream_list_with_no_reservoir_points = dominated_reservoir_and_stream_without_reservoir[1]\n",
    "            dominated_stream = eliminate_points_algorithm.elimination_dominated_by_S_components_from_stream(stream_list_with_no_reservoir_points,dominated_reservoir)\n",
    "            # this if is used if the amount of streaming points has at least halved \n",
    "            if length_previous_stream >= 2*len(dominated_stream):\n",
    "                total_skylinepoints = total_skylinepoints*2\n",
    "            # this else is used if the amount of streaming points has not at least halved \n",
    "            else:\n",
    "                total_skylinepoints += 1\n",
    "            # the previous_skylinepoints, total_skylinepoints are updated and these define the amount of skylinepoints \n",
    "            # that have to be run \n",
    "            previous_skylinepoints += skylinepoints \n",
    "            skylinepoints = total_skylinepoints-previous_skylinepoints\n",
    "            remaining_stream = dominated_stream\n",
    "            # the length of the dominated stream is updated \n",
    "            length_previous_stream = len(dominated_stream)\n",
    "            # the reservoir going out of the eliminate_points_algorithm is put in the total_pool before it gets \n",
    "            # destroyed by the next iteration \n",
    "            for component in dominated_reservoir:\n",
    "                total_pool.append(dominated_reservoir)\n",
    "            print(total_skylinepoints//2, len(remaining_stream),len(dominated_reservoir),len(total_pool))\n",
    "            \n",
    "        # this bit of code is dealing with the last 24 or less points remaining in the stream that couldn't be \n",
    "        # dominated by the multiple reservoirs, given they made it to this point they can be assumed to be \n",
    "        # dominating, otherwise they'd have been eliminated with almost certainty (same idea as with the points in reservoir)\n",
    "        i = 0\n",
    "        while i <len(remaining_stream):\n",
    "            total_pool.append(remaining_stream[i])\n",
    "            remaining_stream.remove(remaining_stream[i])\n",
    "        print((total_skylinepoints//2)+1,len(remaining_stream),len(dominated_reservoir),len(total_pool))\n",
    "            \n",
    "            "
   ]
  },
  {
   "cell_type": "code",
   "execution_count": 42,
   "metadata": {
    "scrolled": false
   },
   "outputs": [
    {
     "name": "stdout",
     "output_type": "stream",
     "text": [
      "1 43 24 24\n",
      "2 17 24 48\n",
      "3 0 24 65\n",
      "None\n"
     ]
    }
   ],
   "source": [
    "stream = stream_creation.stream_creation(2,100)\n",
    "print(streaming_RAND.find_skylinepoints(stream)) "
   ]
  },
  {
   "cell_type": "code",
   "execution_count": 24,
   "metadata": {
    "scrolled": false
   },
   "outputs": [
    {
     "name": "stdout",
     "output_type": "stream",
     "text": [
      "1 3556 24 24\n",
      "2 1456 24 48\n",
      "4 630 48 96\n",
      "8 268 96 192\n",
      "16 109 192 384\n",
      "32 47 109 493\n",
      "64 19 47 540\n",
      "64 0 47 559\n",
      "None\n"
     ]
    }
   ],
   "source": [
    "stream = stream_creation.stream_creation(2,10000)\n",
    "print(streaming_RAND.find_skylinepoints(stream)) "
   ]
  },
  {
   "cell_type": "code",
   "execution_count": 32,
   "metadata": {},
   "outputs": [],
   "source": [
    "# this system uses a fixed windows whose % is defined in advance \n",
    "# it is basically the same algorithm as the streaming_RAND algorithm, at the exception that the amount of skylinepoints \n",
    "# to be run each time is already defined \n",
    "# the idea is to see how efficient it is \n",
    "class fixed_window:\n",
    "    def __init__(self, stream):\n",
    "        self._stream = stream \n",
    "\n",
    "    def find_skylinepoints(stream,percentage):\n",
    "        remaining_stream = eliminate_points_algorithm.transform_stream_tuple_in_list(stream)\n",
    "        total_pool = []\n",
    "        length_previous_stream = len([])\n",
    "        window = int((percentage*len(stream))//24)\n",
    "        if window == 0:\n",
    "            window = 1\n",
    "        while len(remaining_stream) > 20:  \n",
    "            non_dominated_reservoir = eliminate_points_algorithm.reservoir_sampling(remaining_stream,window)\n",
    "            dominated_reservoir_and_stream_without_reservoir = eliminate_points_algorithm.random_domination_from_stream_on_reservoir(remaining_stream,non_dominated_reservoir)\n",
    "            dominated_reservoir = dominated_reservoir_and_stream_without_reservoir[0]\n",
    "            stream_list_with_no_reservoir_points = dominated_reservoir_and_stream_without_reservoir[1]\n",
    "            dominated_stream = eliminate_points_algorithm.elimination_dominated_by_S_components_from_stream(stream_list_with_no_reservoir_points,dominated_reservoir)\n",
    "            remaining_stream = dominated_stream\n",
    "            length_previous_stream = len(dominated_stream)\n",
    "            for component in dominated_reservoir:\n",
    "                total_pool.append(dominated_reservoir)\n",
    "            print(len(remaining_stream),len(dominated_reservoir),len(total_pool))\n",
    "\n",
    "        i = 0\n",
    "        while i <len(remaining_stream):\n",
    "            total_pool.append(remaining_stream[i])\n",
    "            remaining_stream.remove(remaining_stream[i])\n",
    "        print(len(remaining_stream),len(dominated_reservoir),len(total_pool))"
   ]
  },
  {
   "cell_type": "code",
   "execution_count": 25,
   "metadata": {},
   "outputs": [
    {
     "name": "stdout",
     "output_type": "stream",
     "text": [
      "3582 24 24\n",
      "1434 24 48\n",
      "625 24 72\n",
      "284 24 96\n",
      "127 24 120\n",
      "56 24 144\n",
      "25 24 168\n",
      "12 24 192\n",
      "0 24 204\n",
      "None\n"
     ]
    }
   ],
   "source": [
    "# with 0.001 it is rather quickly, but few points are left at the end as only 2% remains consistently \n",
    "# while it was more like 5% with the streaming_RAND algorithm the speed was a bit better to the streaming_RAND \n",
    "stream = stream_creation.stream_creation(2,10000)\n",
    "percentage = 0.001\n",
    "print(fixed_window.find_skylinepoints(stream,percentage)) "
   ]
  },
  {
   "cell_type": "code",
   "execution_count": 26,
   "metadata": {},
   "outputs": [
    {
     "name": "stdout",
     "output_type": "stream",
     "text": [
      "3494 96 96\n",
      "1387 96 192\n",
      "587 96 288\n",
      "251 96 384\n",
      "103 96 480\n",
      "44 96 576\n",
      "17 44 620\n",
      "0 44 637\n",
      "None\n"
     ]
    }
   ],
   "source": [
    "# more similar to the streaming_RAND in computing time and results, 1% less efficient on a consistent base \n",
    "stream = stream_creation.stream_creation(2,10000)\n",
    "percentage = 0.01\n",
    "print(fixed_window.find_skylinepoints(stream,percentage)) "
   ]
  },
  {
   "cell_type": "code",
   "execution_count": 27,
   "metadata": {},
   "outputs": [
    {
     "name": "stdout",
     "output_type": "stream",
     "text": [
      "3305 984 984\n",
      "1198 984 1968\n",
      "450 984 2952\n",
      "180 450 3402\n",
      "77 180 3582\n",
      "32 77 3659\n",
      "14 32 3691\n",
      "0 32 3705\n",
      "None\n"
     ]
    }
   ],
   "source": [
    "# very slow and very bad results, only to show that it is important to define how many skylinepoints are needed \n",
    "# is an important question that has to be balanced with the speed and total dominating points obtained \n",
    "# an important point to remember from this being that a fixed window is only good when we have an idea about \n",
    "# how many skyline points we have or need \n",
    "# but if we do not have that information it would be better to run one streaming_RAND algorithm or multiple fixed_window algorithms \n",
    "stream = stream_creation.stream_creation(2,10000)\n",
    "percentage = 0.1\n",
    "print(fixed_window.find_skylinepoints(stream,percentage))"
   ]
  }
 ],
 "metadata": {
  "kernelspec": {
   "display_name": "Python 3",
   "language": "python",
   "name": "python3"
  },
  "language_info": {
   "codemirror_mode": {
    "name": "ipython",
    "version": 3
   },
   "file_extension": ".py",
   "mimetype": "text/x-python",
   "name": "python",
   "nbconvert_exporter": "python",
   "pygments_lexer": "ipython3",
   "version": "3.7.1"
  }
 },
 "nbformat": 4,
 "nbformat_minor": 2
}
