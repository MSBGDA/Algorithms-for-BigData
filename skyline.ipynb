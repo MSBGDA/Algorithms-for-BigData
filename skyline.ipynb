{
 "cells": [
  {
   "source": [
    "### Author: Kubam Ivo \n",
    "### Purpose: Algorithms For Big Data Project\n",
    "### Date: 25/3/2021"
   ],
   "cell_type": "markdown",
   "metadata": {}
  },
  {
   "cell_type": "markdown",
   "metadata": {},
   "source": [
    "**Algorithm 1(eliminate points-m):** <br>\n",
    "    **Input:** p1,p2,... , pn' (in order) where n' is the number of points in the stream.<br> \n",
    "    **Output**: Skyline points S' <br>\n",
    "    1. Let x = 24m. \n",
    "    2. **Pass 1:** For j : 1, 2, ..., x, let p'j be a point picked uniformly at random from the stream. <br>\n",
    "    Let S be the set of such points.<br>\n",
    "    **Pass 2**\n",
    "    4. for i = 1, ..., n' do \n",
    "         * for any p'j, if pi dominates p'j then p'j:=pi\n",
    "    6. end for \n",
    "    7. Let S'={p'1,p'2,...,p'x}.\n",
    "    8. **Pass 3** \n",
    "            Delete from stream all points in S' and all points dominated by any point in S'.\n",
    "    9. return S' "
   ]
  },
  {
   "cell_type": "code",
   "execution_count": 1,
   "metadata": {},
   "outputs": [],
   "source": [
    "# generate points\n",
    "import random\n",
    "\n",
    "def generate_points(n):\n",
    "    data = [(random.randint(1,100),random.randint(1,100)) for x in range(n)] \n",
    "    return data\n",
    "\n",
    "#stream = generate_points(1000)\n",
    "\n"
   ]
  },
  {
   "cell_type": "code",
   "execution_count": 2,
   "metadata": {},
   "outputs": [],
   "source": [
    "# Class for algorithm 1: Eliminate-points (m)\n",
    "import random\n",
    "import numpy as np\n",
    "class Eliminate:\n",
    "    \n",
    "    \"\"\" Class to generate m skyline points from n stream data \"\"\"\n",
    "    def __init__(self, m=3):\n",
    "        self._m = m\n",
    "        self._x = self._m * 24\n",
    "\n",
    "    \n",
    "    #reservoir sampling\n",
    "\n",
    "    def reservoir_sample(self, stream):\n",
    "        \"\"\"Receives the sample generated data points and does to a reservoir sampling to return selected points \"\"\"\n",
    "        k = int(24*self._m)\n",
    "        reservoir = [stream[i] for i in range(k)]\n",
    "\n",
    "        for i in range(k,len(stream)):\n",
    "            j = random.randint(1,i)\n",
    "            if j < k:\n",
    "                reservoir[j] = stream[i]\n",
    "        return reservoir\n",
    "\n",
    "    # dominant points\n",
    "\n",
    "    def dominate(self, stream, reservoir_point):\n",
    "        \"\"\" Reeceives the selected points from reservoir sampling and replace any if dominated by a point in the stream data \"\"\"\n",
    "        dominant_point = reservoir_point [:]\n",
    "        for i in range(len(stream)):\n",
    "            sampled_elem = random.choice(dominant_point)\n",
    "\n",
    "            x1, y1 = sampled_elem\n",
    "            x2, y2 = stream[i]\n",
    "\n",
    "            if (x2 >= x1 and y2 >= y1) and (x2 > x1 or y2 > y1):\n",
    "                dominant_point[dominant_point.index(sampled_elem)] = stream[i]\n",
    "        return dominant_point\n",
    "\n",
    "    # Final pass\n",
    "    def remove_point_stream(self, stream, skyline_points):\n",
    "        \"\"\"Delete from stream data all points dominated by points skyline points or points found in skyline points\"\"\"\n",
    "        output_stream = []\n",
    "        for point in stream:\n",
    "            if point not in skyline_points:\n",
    "                output_stream.append(point)\n",
    "\n",
    "        for point in skyline_points:\n",
    "            x2, y2 = point\n",
    "        \n",
    "            for elem in output_stream:\n",
    "                x1, y1 = elem\n",
    "                if (x2 >= x1 and y2 >= y1) and (x2 > x1 or y2 > y1):\n",
    "                    output_stream.remove(elem)\n",
    "        return output_stream\n",
    "    \n",
    "    \n"
   ]
  },
  {
   "cell_type": "code",
   "execution_count": 7,
   "metadata": {},
   "outputs": [
    {
     "output_type": "stream",
     "name": "stdout",
     "text": [
      "Wall time: 111 ms\n"
     ]
    }
   ],
   "source": [
    "%%time\n",
    "stream = generate_points(10000)\n",
    "output_stream = stream[:]"
   ]
  },
  {
   "cell_type": "code",
   "execution_count": 8,
   "metadata": {},
   "outputs": [
    {
     "output_type": "stream",
     "name": "stdout",
     "text": [
      "Wall time: 631 ms\n"
     ]
    }
   ],
   "source": [
    "%%time\n",
    "test = Eliminate(int(m*math.log(n*math.log(n))))\n",
    "reservoir_pts = test.reservoir_sample(output_stream)\n",
    "sky_pts = test.dominate(output_stream,reservoir_pts)\n",
    "output_stream = test.remove_point_stream(output_stream,sky_pts)"
   ]
  },
  {
   "cell_type": "markdown",
   "metadata": {},
   "source": [
    "Algorithm 2 (Streaming RAND): \n",
    "    1: Let n be the number of points in the input stream. \n",
    "    Let m' = 1. \n",
    "    2: while the input stream is not empty do: \n",
    "    3: let n' be the current number of points in the stream \n",
    "    4: Call eliminate points (m'log(nlogn))\n",
    "    5: If more than n'/2 points are left in the stream, m' = 2 m'\n",
    "    6: end while \n",
    "    Remark: In case the stream cannot be changed, we do not have to actually delete points from stream. \n",
    "    We only keep the skyline points found so far and consider only points in the stream that is not dominated by any found skyline points. \n",
    "        "
   ]
  },
  {
   "cell_type": "code",
   "execution_count": 3,
   "metadata": {},
   "outputs": [
    {
     "output_type": "stream",
     "name": "stdout",
     "text": [
      "Wall time: 24.4 ms\n"
     ]
    }
   ],
   "source": [
    "%%time\n",
    "m= 1\n",
    "stream = generate_points(10000)\n",
    "output_stream = stream[:]\n",
    "n = len(stream)\n",
    "n_prime = len(stream)"
   ]
  },
  {
   "cell_type": "code",
   "execution_count": 4,
   "metadata": {},
   "outputs": [
    {
     "output_type": "stream",
     "name": "stdout",
     "text": [
      "Wall time: 596 ms\n"
     ]
    }
   ],
   "source": [
    "%%time\n",
    "import math\n",
    "\n",
    "\n",
    "while n_prime > 0:\n",
    "    test = Eliminate(int(m*math.log(n*math.log(n))))\n",
    "    reservoir_pts = test.reservoir_sample(output_stream)\n",
    "    sky_pts = test.dominate(output_stream,reservoir_pts)\n",
    "    output_stream = test.remove_point_stream(output_stream,sky_pts)\n",
    "    n_prime = len(output_stream)\n",
    "    if n_prime > n/2:\n",
    "        m = 2*m\n",
    "    else:\n",
    "        break\n",
    "\n",
    "\n",
    "    \n"
   ]
  },
  {
   "cell_type": "code",
   "execution_count": 23,
   "metadata": {},
   "outputs": [],
   "source": []
  },
  {
   "source": [
    "## Fixed Window"
   ],
   "cell_type": "markdown",
   "metadata": {}
  },
  {
   "source": [
    "### Random Access"
   ],
   "cell_type": "markdown",
   "metadata": {}
  },
  {
   "cell_type": "code",
   "execution_count": 6,
   "metadata": {},
   "outputs": [],
   "source": [
    "\n",
    "stream = generate_points(100000)\n",
    "w = int(0.01 * len(stream))\n",
    "output_stream = stream[:]\n",
    "n = len(output_stream)"
   ]
  },
  {
   "cell_type": "code",
   "execution_count": 7,
   "metadata": {},
   "outputs": [],
   "source": [
    "import math\n",
    "\n",
    "\n",
    "while n > 0:\n",
    "    test = Eliminate(w/24)\n",
    "    reservoir_pts = test.reservoir_sample(output_stream)\n",
    "    sky_pts = test.dominate(output_stream,reservoir_pts)\n",
    "    output_stream = test.remove_point_stream(output_stream,sky_pts)\n",
    "    n = len(output_stream)"
   ]
  },
  {
   "cell_type": "code",
   "execution_count": null,
   "metadata": {},
   "outputs": [],
   "source": []
  }
 ],
 "metadata": {
  "kernelspec": {
   "name": "python383jvsc74a57bd0ba7d381a7320e8ab0820bd1b62e94521294792d6ec93168b850842f0e445242e",
   "display_name": "Python 3.8.3 64-bit ('base': conda)"
  },
  "language_info": {
   "codemirror_mode": {
    "name": "ipython",
    "version": 3
   },
   "file_extension": ".py",
   "mimetype": "text/x-python",
   "name": "python",
   "nbconvert_exporter": "python",
   "pygments_lexer": "ipython3",
   "version": "3.8.3"
  }
 },
 "nbformat": 4,
 "nbformat_minor": 2
}