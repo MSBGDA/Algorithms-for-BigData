{
 "cells": [
  {
   "source": [
    "### Author: Kubam Ivo \n",
    "### Purpose: Algorithms For Big Data Project\n",
    "### Date: 25/3/2021"
   ],
   "cell_type": "markdown",
   "metadata": {}
  },
  {
   "cell_type": "markdown",
   "metadata": {},
   "source": [
    "**Algorithm 1(eliminate points-m):** <br>\n",
    "    **Input:** p1,p2,... , pn' (in order) where n' is the number of points in the stream.<br> \n",
    "    **Output**: Skyline points S' <br>\n",
    "    1. Let x = 24m. \n",
    "    2. **Pass 1:** For j : 1, 2, ..., x, let p'j be a point picked uniformly at random from the stream. <br>\n",
    "    Let S be the set of such points.<br>\n",
    "    **Pass 2**\n",
    "    4. for i = 1, ..., n' do \n",
    "         * for any p'j, if pi dominates p'j then p'j:=pi\n",
    "    6. end for \n",
    "    7. Let S'={p'1,p'2,...,p'x}.\n",
    "    8. **Pass 3** \n",
    "            Delete from stream all points in S' and all points dominated by any point in S'.\n",
    "    9. return S' "
   ]
  },
  {
   "cell_type": "code",
   "execution_count": 57,
   "metadata": {},
   "outputs": [],
   "source": [
    "# generate points\n",
    "import random\n",
    "\n",
    "def generate_points(n):\n",
    "    #random.seed(a=123)\n",
    "    data = [(random.randint(0,100),random.randint(0,100)) for x in range(n)] \n",
    "    return data\n",
    "    "
   ]
  },
  {
   "cell_type": "code",
   "execution_count": 59,
   "metadata": {},
   "outputs": [],
   "source": [
    "#reservoir sampling\n",
    "m = 3 #number of skyline points\n",
    "import random\n",
    "def reservoir_sample(stream, m):\n",
    "    k = 24*m\n",
    "    reservoir = [stream[i] for i in range(k)]\n",
    "    \n",
    "    N=0\n",
    "    for t, item in enumerate(stream):\n",
    "        N += 1\n",
    "        s = random.randint(0,t)\n",
    "        if s < k:\n",
    "            reservoir[s] = item    \n",
    "\n",
    "    return reservoir"
   ]
  },
  {
   "cell_type": "code",
   "execution_count": 62,
   "metadata": {
    "scrolled": true
   },
   "outputs": [],
   "source": [
    "n = 1000 #stream size\n",
    "stream = generate_points(n)"
   ]
  },
  {
   "cell_type": "code",
   "execution_count": 67,
   "metadata": {
    "scrolled": true
   },
   "outputs": [],
   "source": [
    "selected_point =reservoir_sample(stream,m)\n"
   ]
  },
  {
   "cell_type": "code",
   "execution_count": 29,
   "metadata": {},
   "outputs": [],
   "source": [
    "import random \n",
    "def dominate(stream,selected_point):\n",
    "    for i in range(n):\n",
    "        sampled_elem = random.choice(selected_point)\n",
    "        if sampled_elem < stream[i]:\n",
    "            selected_point[selected_point.index(sampled_elem)] = stream[i]\n",
    "    return selected_point\n",
    "    \n"
   ]
  },
  {
   "cell_type": "code",
   "execution_count": 71,
   "metadata": {
    "scrolled": true
   },
   "outputs": [],
   "source": [
    "skyline_points = dominate(stream,selected_point)\n"
   ]
  },
  {
   "cell_type": "code",
   "execution_count": 73,
   "metadata": {},
   "outputs": [],
   "source": [
    "def remove_point_stream(stream,skyline_points):\n",
    "    for point in skyline_points:\n",
    "        if point in stream:\n",
    "            stream.remove(point)\n",
    "        for elem in stream:\n",
    "            if point > elem:\n",
    "                stream.remove(elem)\n",
    "    return stream\n",
    "\n",
    "    "
   ]
  },
  {
   "cell_type": "code",
   "execution_count": 32,
   "metadata": {},
   "outputs": [
    {
     "output_type": "execute_result",
     "data": {
      "text/plain": [
       "[]"
      ]
     },
     "metadata": {},
     "execution_count": 32
    }
   ],
   "source": [
    "remove_point_stream(stream,skyline_points)"
   ]
  },
  {
   "cell_type": "markdown",
   "metadata": {},
   "source": [
    "Algorithm 2 (Streaming RAND): \n",
    "    1: Let n be the number of points in the input stream. \n",
    "    Let m' = 1. \n",
    "    2: while the input stream is not empty do: \n",
    "    3: let n' be the current number of points in the stream \n",
    "    4: Call eliminate points (m'log(nlogn))\n",
    "    5: If more than n'/2 points are left in the stream, m' = 2 m'\n",
    "    6: end while \n",
    "    Remark: In case the stream cannot be changed, we do not have to actually delete points from stream. \n",
    "    We only keep the skyline points found so far and consider only points in the stream that is not dominated by any found skyline points. \n",
    "        "
   ]
  }
 ],
 "metadata": {
  "kernelspec": {
   "display_name": "Python 3",
   "language": "python",
   "name": "python3"
  },
  "language_info": {
   "codemirror_mode": {
    "name": "ipython",
    "version": 3
   },
   "file_extension": ".py",
   "mimetype": "text/x-python",
   "name": "python",
   "nbconvert_exporter": "python",
   "pygments_lexer": "ipython3",
   "version": "3.8.3-final"
  }
 },
 "nbformat": 4,
 "nbformat_minor": 2
}