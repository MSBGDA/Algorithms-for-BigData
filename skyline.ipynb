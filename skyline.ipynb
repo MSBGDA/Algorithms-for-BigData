{
 "cells": [
  {
   "source": [
    "### Author: Kubam Ivo \n",
    "### Purpose: Algorithms For Big Data Project\n",
    "### Date: 25/3/2021"
   ],
   "cell_type": "markdown",
   "metadata": {}
  },
  {
   "cell_type": "markdown",
   "metadata": {},
   "source": [
    "**Algorithm 1(eliminate points-m):** <br>\n",
    "    **Input:** p1,p2,... , pn' (in order) where n' is the number of points in the stream.<br> \n",
    "    **Output**: Skyline points S' <br>\n",
    "    1. Let x = 24m. \n",
    "    2. **Pass 1:** For j : 1, 2, ..., x, let p'j be a point picked uniformly at random from the stream. <br>\n",
    "    Let S be the set of such points.<br>\n",
    "    **Pass 2**\n",
    "    4. for i = 1, ..., n' do \n",
    "         * for any p'j, if pi dominates p'j then p'j:=pi\n",
    "    6. end for \n",
    "    7. Let S'={p'1,p'2,...,p'x}.\n",
    "    8. **Pass 3** \n",
    "            Delete from stream all points in S' and all points dominated by any point in S'.\n",
    "    9. return S' "
   ]
  },
  {
   "cell_type": "code",
   "execution_count": 114,
   "metadata": {},
   "outputs": [],
   "source": [
    "# generate points\n",
    "import random\n",
    "\n",
    "def generate_points(n):\n",
    "    data = [(random.randint(1,100),random.randint(1,100)) for x in range(n)] \n",
    "    print('Stream contains', len(data), 'data points')\n",
    "    return data\n",
    "\n",
    "#stream = generate_points(1000)\n",
    "\n"
   ]
  },
  {
   "cell_type": "code",
   "execution_count": 126,
   "metadata": {},
   "outputs": [],
   "source": [
    "# Class for algorithm 1: Eliminate-points (m)\n",
    "import random\n",
    "import numpy as np\n",
    "class Eliminate:\n",
    "    \n",
    "    \"\"\" Class to generate m skyline points from n stream data \"\"\"\n",
    "    def __init__(self, m=3):\n",
    "        self._m = m\n",
    "        self._x = self._m * 24\n",
    "\n",
    "    \n",
    "    #reservoir sampling\n",
    "\n",
    "    def reservoir_sample(self, stream):\n",
    "        \"\"\"Receives the sample generated data points and does to a reservoir sampling to return selected points \"\"\"\n",
    "        k = int(24*self._m)\n",
    "        if k <  len(stream):\n",
    "            reservoir = [stream[i] for i in range(k)]\n",
    "        else:\n",
    "            reservoir = stream[:]\n",
    "\n",
    "        for i in range(k,len(stream)):\n",
    "            j = random.randint(1,i)\n",
    "            if j < k:\n",
    "                reservoir[j] = stream[i]\n",
    "        print(len(reservoir), 'points have been sample from the main stream into the reservoir sample')\n",
    "        return reservoir\n",
    "\n",
    "    # dominant points\n",
    "\n",
    "    def dominate(self, stream, reservoir_point):\n",
    "        \"\"\" Reeceives the selected points from reservoir sampling and replace any if dominated by a point in the stream data \"\"\"\n",
    "        dominant_point = reservoir_point [:]\n",
    "        n = 0\n",
    "        for i in range(len(stream)):\n",
    "            sampled_elem = random.choice(dominant_point)\n",
    "\n",
    "            x1, y1 = sampled_elem\n",
    "            x2, y2 = stream[i]\n",
    "\n",
    "            if (x2 >= x1 and y2 >= y1) and (x2 > x1 or y2 > y1):\n",
    "                n += 1\n",
    "                #print('Point', stream[i], 'dominates and replaces', sampled_elem)        \n",
    "                dominant_point[dominant_point.index(sampled_elem)] = stream[i]\n",
    "        print('There were ', n, ' replacement done between the main stream and reservoir sample')\n",
    "        print('Preview of dominant elements ')\n",
    "        print(dominant_point[:10], '...')\n",
    "        return dominant_point\n",
    "\n",
    "    # Final pass\n",
    "    def remove_point_stream(self, stream, skyline_points):\n",
    "        \"\"\"Delete from stream data all points dominated by points skyline points or points found in skyline points\"\"\"\n",
    "        output_stream = []\n",
    "        for point in stream:\n",
    "            if point not in skyline_points:\n",
    "\n",
    "                output_stream.append(point)\n",
    "        print('There are ' , len(output_stream), 'points in the main stream which are not dominant points')\n",
    "\n",
    "        n = 0\n",
    "        for point in skyline_points:\n",
    "            x2, y2 = point\n",
    "        \n",
    "            for elem in output_stream:\n",
    "                x1, y1 = elem\n",
    "                if (x2 >= x1 and y2 >= y1) and (x2 > x1 or y2 > y1):\n",
    "                    output_stream.remove(elem)\n",
    "                    n +=1\n",
    "        print(n, 'points in the main stream were remove because they were dominated')\n",
    "        print(len(output_stream), ' points are left in the stream')\n",
    "        return output_stream\n",
    "    \n",
    "    \n"
   ]
  },
  {
   "cell_type": "code",
   "execution_count": null,
   "metadata": {},
   "outputs": [],
   "source": [
    "# version Two: Eliminate-points (m)"
   ]
  },
  {
   "cell_type": "code",
   "execution_count": 96,
   "metadata": {},
   "outputs": [
    {
     "output_type": "stream",
     "name": "stdout",
     "text": [
      "Stream contains 10000 data points\nWall time: 40.2 ms\n"
     ]
    },
    {
     "output_type": "execute_result",
     "data": {
      "text/plain": [
       "87616"
      ]
     },
     "metadata": {},
     "execution_count": 96
    }
   ],
   "source": [
    "%%time\n",
    "import sys\n",
    "stream = generate_points(10000)\n",
    "output_stream = stream[:]\n",
    "\n",
    "sys.getsizeof(stream)"
   ]
  },
  {
   "cell_type": "code",
   "execution_count": 95,
   "metadata": {},
   "outputs": [
    {
     "output_type": "stream",
     "name": "stdout",
     "text": [
      "48 points have been sample from the main stream into the reservoir sample\n",
      "There were  135  replacement done between the main stream and reservoir sample\n",
      "Preview of dominant elements \n",
      "[(95, 100), (100, 90), (100, 42), (96, 97), (99, 85), (100, 91), (100, 87), (99, 95), (100, 85), (88, 100)] ...\n",
      "There are  9909 points in the main stream which are not dominant points\n",
      "9908 points in the main stream were remove because they were dominated\n",
      "1  points are left in the stream\n",
      "[(87, 100)]\n",
      "Wall time: 615 ms\n"
     ]
    }
   ],
   "source": [
    "%%time\n",
    "import math\n",
    "n= len(output_stream)\n",
    "m = 2\n",
    "test = Eliminate(m)\n",
    "reservoir_pts = test.reservoir_sample(output_stream)\n",
    "sky_pts = test.dominate(output_stream,reservoir_pts)\n",
    "output_stream = test.remove_point_stream(output_stream,sky_pts)\n",
    "print(output_stream)"
   ]
  },
  {
   "cell_type": "markdown",
   "metadata": {},
   "source": [
    "Algorithm 2 (Streaming RAND): \n",
    "    1: Let n be the number of points in the input stream. \n",
    "    Let m' = 1. \n",
    "    2: while the input stream is not empty do: \n",
    "    3: let n' be the current number of points in the stream \n",
    "    4: Call eliminate points (m'log(nlogn))\n",
    "    5: If more than n'/2 points are left in the stream, m' = 2 m'\n",
    "    6: end while \n",
    "    Remark: In case the stream cannot be changed, we do not have to actually delete points from stream. \n",
    "    We only keep the skyline points found so far and consider only points in the stream that is not dominated by any found skyline points. \n",
    "        "
   ]
  },
  {
   "cell_type": "code",
   "execution_count": 52,
   "metadata": {},
   "outputs": [
    {
     "output_type": "stream",
     "name": "stdout",
     "text": [
      "Stream contains 10000 data points\nWall time: 39.6 ms\n"
     ]
    }
   ],
   "source": [
    "%%time\n",
    "m= 1\n",
    "stream = generate_points(10000)\n",
    "output_stream = stream[:]\n",
    "n = len(stream)\n",
    "n_prime = len(stream)"
   ]
  },
  {
   "cell_type": "code",
   "execution_count": 53,
   "metadata": {},
   "outputs": [
    {
     "output_type": "stream",
     "name": "stdout",
     "text": [
      "264 points have been sample from the main stream into the reservoir sample\n",
      "There were  452  replacement done between the main stream and reservoir sample\n",
      "Preview of dominant elements \n",
      "[(95, 97), (93, 93), (96, 66), (98, 87), (98, 77), (95, 92), (95, 97), (98, 96), (76, 95), (98, 100)] ...\n",
      "There are  9573 points in the main stream which are not dominant points\n",
      "9573 points in the main stream were remove because they were dominated\n",
      "0  points are left in the stream\n",
      "Wall time: 612 ms\n"
     ]
    }
   ],
   "source": [
    "%%time\n",
    "import math\n",
    "\n",
    "m = int(m*math.log(n*math.log(n)))\n",
    "while n_prime > 0:\n",
    "    test = Eliminate(m)\n",
    "    reservoir_pts = test.reservoir_sample(output_stream)\n",
    "    sky_pts = test.dominate(output_stream,reservoir_pts)\n",
    "    output_stream = test.remove_point_stream(output_stream,sky_pts)\n",
    "    n_prime = len(output_stream)\n",
    "    if n_prime > n/2:\n",
    "        m = 2*m\n",
    "    else:\n",
    "        break\n",
    "\n",
    "\n",
    "    \n"
   ]
  },
  {
   "cell_type": "code",
   "execution_count": 23,
   "metadata": {},
   "outputs": [],
   "source": []
  },
  {
   "source": [
    "## Fixed Window"
   ],
   "cell_type": "markdown",
   "metadata": {}
  },
  {
   "source": [
    "### Random Access"
   ],
   "cell_type": "markdown",
   "metadata": {}
  },
  {
   "cell_type": "code",
   "execution_count": 131,
   "metadata": {},
   "outputs": [
    {
     "output_type": "stream",
     "name": "stdout",
     "text": [
      "Stream contains 10000 data points\n"
     ]
    }
   ],
   "source": [
    "import time\n",
    "import math\n",
    "stream = generate_points(10000)\n",
    "w = int(0.01 * len(stream)) # getting the number of points using window size of 0.01.\n",
    "output_stream = stream[:] # Assuming output and stream data at thesame at the beginning\n",
    "n = len(output_stream)"
   ]
  },
  {
   "cell_type": "code",
   "execution_count": 132,
   "metadata": {},
   "outputs": [
    {
     "output_type": "stream",
     "name": "stdout",
     "text": [
      "100 points have been sample from the main stream into the reservoir sample\n",
      "There were  222  replacement done between the main stream and reservoir sample\n",
      "Preview of dominant elements \n",
      "[(98, 73), (98, 90), (99, 99), (99, 82), (100, 99), (95, 95), (81, 92), (93, 85), (84, 91), (95, 95)] ...\n",
      "There are  9843 points in the main stream which are not dominant points\n",
      "9842 points in the main stream were remove because they were dominated\n",
      "1  points are left in the stream\n",
      "1 points have been sample from the main stream into the reservoir sample\n",
      "There were  0  replacement done between the main stream and reservoir sample\n",
      "Preview of dominant elements \n",
      "[(100, 98)] ...\n",
      "There are  0 points in the main stream which are not dominant points\n",
      "0 points in the main stream were remove because they were dominated\n",
      "0  points are left in the stream\n",
      "Execution time:  0.7148922000014863\n"
     ]
    }
   ],
   "source": [
    "\n",
    "tic = time.perf_counter()  # starts the timer\n",
    "# simple running the elimate algorithm with w/24\n",
    "while n > 0:\n",
    "    test = Eliminate(w/24)\n",
    "    reservoir_pts = test.reservoir_sample(output_stream)\n",
    "    sky_pts = test.dominate(output_stream,reservoir_pts)\n",
    "    output_stream = test.remove_point_stream(output_stream,sky_pts)\n",
    "    n = len(output_stream)\n",
    "toc = time.perf_counter()\n",
    "print(\"Execution time: \", toc - tic)"
   ]
  },
  {
   "cell_type": "code",
   "execution_count": 143,
   "metadata": {},
   "outputs": [
    {
     "output_type": "stream",
     "name": "stdout",
     "text": [
      "Stream contains 10000 data points\n",
      "100 points have been sample from the main stream into the reservoir sample\n",
      "There were  220  replacement done between the main stream and reservoir sample\n",
      "Preview of dominant elements \n",
      "[(89, 83), (85, 100), (100, 89), (99, 89), (96, 99), (84, 99), (98, 96), (95, 99), (90, 95), (72, 97)] ...\n",
      "There are  9845 points in the main stream which are not dominant points\n",
      "9845 points in the main stream were remove because they were dominated\n",
      "0  points are left in the stream\n",
      "Execution time:  0.6079027000014321\n",
      "\n",
      "\n",
      "Stream contains 20000 data points\n",
      "200 points have been sample from the main stream into the reservoir sample\n",
      "There were  483  replacement done between the main stream and reservoir sample\n",
      "Preview of dominant elements \n",
      "[(99, 77), (92, 96), (93, 100), (99, 100), (87, 99), (96, 75), (96, 82), (98, 95), (100, 100), (53, 100)] ...\n",
      "There are  19593 points in the main stream which are not dominant points\n",
      "19593 points in the main stream were remove because they were dominated\n",
      "0  points are left in the stream\n",
      "Execution time:  2.0171097999991616\n",
      "\n",
      "\n",
      "Stream contains 30000 data points\n",
      "300 points have been sample from the main stream into the reservoir sample\n",
      "There were  656  replacement done between the main stream and reservoir sample\n",
      "Preview of dominant elements \n",
      "[(97, 92), (100, 81), (100, 97), (90, 96), (99, 96), (96, 98), (94, 90), (100, 91), (97, 92), (80, 99)] ...\n",
      "There are  29237 points in the main stream which are not dominant points\n",
      "29237 points in the main stream were remove because they were dominated\n",
      "0  points are left in the stream\n",
      "Execution time:  4.236788600006548\n",
      "\n",
      "\n",
      "Stream contains 40000 data points\n",
      "400 points have been sample from the main stream into the reservoir sample\n",
      "There were  871  replacement done between the main stream and reservoir sample\n",
      "Preview of dominant elements \n",
      "[(99, 76), (98, 96), (94, 100), (98, 57), (100, 98), (99, 59), (91, 98), (100, 97), (81, 100), (94, 100)] ...\n",
      "There are  38779 points in the main stream which are not dominant points\n",
      "38779 points in the main stream were remove because they were dominated\n",
      "0  points are left in the stream\n",
      "Execution time:  6.872884999997041\n",
      "\n",
      "\n",
      "Stream contains 50000 data points\n",
      "500 points have been sample from the main stream into the reservoir sample\n",
      "There were  1040  replacement done between the main stream and reservoir sample\n",
      "Preview of dominant elements \n",
      "[(86, 96), (95, 94), (98, 94), (98, 99), (73, 100), (88, 98), (96, 34), (97, 92), (100, 95), (80, 99)] ...\n",
      "There are  48319 points in the main stream which are not dominant points\n",
      "48319 points in the main stream were remove because they were dominated\n",
      "0  points are left in the stream\n",
      "Execution time:  10.308818199999223\n",
      "\n",
      "\n",
      "Stream contains 60000 data points\n",
      "600 points have been sample from the main stream into the reservoir sample\n",
      "There were  1318  replacement done between the main stream and reservoir sample\n",
      "Preview of dominant elements \n",
      "[(81, 98), (98, 99), (82, 99), (100, 78), (91, 96), (89, 99), (72, 99), (78, 98), (100, 57), (96, 99)] ...\n",
      "There are  57832 points in the main stream which are not dominant points\n",
      "57832 points in the main stream were remove because they were dominated\n",
      "0  points are left in the stream\n",
      "Execution time:  14.367200999993656\n",
      "\n",
      "\n",
      "Stream contains 70000 data points\n",
      "700 points have been sample from the main stream into the reservoir sample\n",
      "There were  1520  replacement done between the main stream and reservoir sample\n",
      "Preview of dominant elements \n",
      "[(95, 98), (93, 79), (96, 100), (77, 93), (86, 99), (98, 99), (100, 98), (100, 94), (95, 99), (100, 99)] ...\n",
      "There are  67302 points in the main stream which are not dominant points\n",
      "67302 points in the main stream were remove because they were dominated\n",
      "0  points are left in the stream\n",
      "Execution time:  20.49172009999893\n",
      "\n",
      "\n",
      "Stream contains 80000 data points\n",
      "800 points have been sample from the main stream into the reservoir sample\n",
      "There were  1761  replacement done between the main stream and reservoir sample\n",
      "Preview of dominant elements \n",
      "[(97, 99), (97, 99), (87, 94), (92, 97), (87, 100), (100, 93), (100, 99), (76, 99), (95, 90), (95, 97)] ...\n",
      "There are  76740 points in the main stream which are not dominant points\n",
      "76740 points in the main stream were remove because they were dominated\n",
      "0  points are left in the stream\n",
      "Execution time:  22.831785399997898\n",
      "\n",
      "\n",
      "Stream contains 90000 data points\n",
      "900 points have been sample from the main stream into the reservoir sample\n",
      "There were  1940  replacement done between the main stream and reservoir sample\n",
      "Preview of dominant elements \n",
      "[(95, 96), (100, 95), (100, 97), (97, 100), (96, 80), (99, 100), (100, 97), (67, 98), (75, 100), (91, 99)] ...\n",
      "There are  86102 points in the main stream which are not dominant points\n",
      "86102 points in the main stream were remove because they were dominated\n",
      "0  points are left in the stream\n",
      "Execution time:  27.535044399999606\n",
      "\n",
      "\n"
     ]
    }
   ],
   "source": [
    "# varying the stream size\n",
    "exec_time = []\n",
    "for size in range(10000,100000,10000):\n",
    "    stream = generate_points(size)\n",
    "    w = int(0.01 * len(stream)) # getting the number of points using window size of 0.01.\n",
    "    output_stream = stream[:] # Assuming output and stream data at thesame at the beginning\n",
    "    n = len(output_stream)\n",
    "\n",
    "    tic = time.perf_counter()  # starts the timer\n",
    "    # simple running the elimate algorithm with w/24\n",
    "    while n > 0:\n",
    "        test = Eliminate(w/24)\n",
    "        reservoir_pts = test.reservoir_sample(output_stream)\n",
    "        sky_pts = test.dominate(output_stream,reservoir_pts)\n",
    "        output_stream = test.remove_point_stream(output_stream,sky_pts)\n",
    "        n = len(output_stream)\n",
    "    toc = time.perf_counter()\n",
    "    print(\"Execution time: \", toc - tic)\n",
    "    exec_time.append(toc - tic)\n",
    "    print(\"\\n\")\n",
    "    "
   ]
  },
  {
   "cell_type": "code",
   "execution_count": 145,
   "metadata": {},
   "outputs": [
    {
     "output_type": "execute_result",
     "data": {
      "text/plain": [
       "Text(0.5, 1.0, 'Runtime')"
      ]
     },
     "metadata": {},
     "execution_count": 145
    },
    {
     "output_type": "display_data",
     "data": {
      "text/plain": "<Figure size 432x288 with 1 Axes>",
      "image/svg+xml": "<?xml version=\"1.0\" encoding=\"utf-8\" standalone=\"no\"?>\r\n<!DOCTYPE svg PUBLIC \"-//W3C//DTD SVG 1.1//EN\"\r\n  \"http://www.w3.org/Graphics/SVG/1.1/DTD/svg11.dtd\">\r\n<!-- Created with matplotlib (https://matplotlib.org/) -->\r\n<svg height=\"263.63625pt\" version=\"1.1\" viewBox=\"0 0 369.613068 263.63625\" width=\"369.613068pt\" xmlns=\"http://www.w3.org/2000/svg\" xmlns:xlink=\"http://www.w3.org/1999/xlink\">\r\n <defs>\r\n  <style type=\"text/css\">\r\n*{stroke-linecap:butt;stroke-linejoin:round;}\r\n  </style>\r\n </defs>\r\n <g id=\"figure_1\">\r\n  <g id=\"patch_1\">\r\n   <path d=\"M -0 263.63625 \r\nL 369.613068 263.63625 \r\nL 369.613068 0 \r\nL -0 0 \r\nz\r\n\" style=\"fill:none;\"/>\r\n  </g>\r\n  <g id=\"axes_1\">\r\n   <g id=\"patch_2\">\r\n    <path d=\"M 26.925 239.758125 \r\nL 361.725 239.758125 \r\nL 361.725 22.318125 \r\nL 26.925 22.318125 \r\nz\r\n\" style=\"fill:#ffffff;\"/>\r\n   </g>\r\n   <g id=\"matplotlib.axis_1\">\r\n    <g id=\"xtick_1\">\r\n     <g id=\"line2d_1\">\r\n      <defs>\r\n       <path d=\"M 0 0 \r\nL 0 3.5 \r\n\" id=\"m32e5e77d02\" style=\"stroke:#000000;stroke-width:0.8;\"/>\r\n      </defs>\r\n      <g>\r\n       <use style=\"stroke:#000000;stroke-width:0.8;\" x=\"42.143182\" xlink:href=\"#m32e5e77d02\" y=\"239.758125\"/>\r\n      </g>\r\n     </g>\r\n     <g id=\"text_1\">\r\n      <!-- 10000 -->\r\n      <defs>\r\n       <path d=\"M 12.40625 8.296875 \r\nL 28.515625 8.296875 \r\nL 28.515625 63.921875 \r\nL 10.984375 60.40625 \r\nL 10.984375 69.390625 \r\nL 28.421875 72.90625 \r\nL 38.28125 72.90625 \r\nL 38.28125 8.296875 \r\nL 54.390625 8.296875 \r\nL 54.390625 0 \r\nL 12.40625 0 \r\nz\r\n\" id=\"DejaVuSans-49\"/>\r\n       <path d=\"M 31.78125 66.40625 \r\nQ 24.171875 66.40625 20.328125 58.90625 \r\nQ 16.5 51.421875 16.5 36.375 \r\nQ 16.5 21.390625 20.328125 13.890625 \r\nQ 24.171875 6.390625 31.78125 6.390625 \r\nQ 39.453125 6.390625 43.28125 13.890625 \r\nQ 47.125 21.390625 47.125 36.375 \r\nQ 47.125 51.421875 43.28125 58.90625 \r\nQ 39.453125 66.40625 31.78125 66.40625 \r\nz\r\nM 31.78125 74.21875 \r\nQ 44.046875 74.21875 50.515625 64.515625 \r\nQ 56.984375 54.828125 56.984375 36.375 \r\nQ 56.984375 17.96875 50.515625 8.265625 \r\nQ 44.046875 -1.421875 31.78125 -1.421875 \r\nQ 19.53125 -1.421875 13.0625 8.265625 \r\nQ 6.59375 17.96875 6.59375 36.375 \r\nQ 6.59375 54.828125 13.0625 64.515625 \r\nQ 19.53125 74.21875 31.78125 74.21875 \r\nz\r\n\" id=\"DejaVuSans-48\"/>\r\n      </defs>\r\n      <g transform=\"translate(26.236932 254.356563)scale(0.1 -0.1)\">\r\n       <use xlink:href=\"#DejaVuSans-49\"/>\r\n       <use x=\"63.623047\" xlink:href=\"#DejaVuSans-48\"/>\r\n       <use x=\"127.246094\" xlink:href=\"#DejaVuSans-48\"/>\r\n       <use x=\"190.869141\" xlink:href=\"#DejaVuSans-48\"/>\r\n       <use x=\"254.492188\" xlink:href=\"#DejaVuSans-48\"/>\r\n      </g>\r\n     </g>\r\n    </g>\r\n    <g id=\"xtick_2\">\r\n     <g id=\"line2d_2\">\r\n      <g>\r\n       <use style=\"stroke:#000000;stroke-width:0.8;\" x=\"80.188636\" xlink:href=\"#m32e5e77d02\" y=\"239.758125\"/>\r\n      </g>\r\n     </g>\r\n     <g id=\"text_2\">\r\n      <!-- 20000 -->\r\n      <defs>\r\n       <path d=\"M 19.1875 8.296875 \r\nL 53.609375 8.296875 \r\nL 53.609375 0 \r\nL 7.328125 0 \r\nL 7.328125 8.296875 \r\nQ 12.9375 14.109375 22.625 23.890625 \r\nQ 32.328125 33.6875 34.8125 36.53125 \r\nQ 39.546875 41.84375 41.421875 45.53125 \r\nQ 43.3125 49.21875 43.3125 52.78125 \r\nQ 43.3125 58.59375 39.234375 62.25 \r\nQ 35.15625 65.921875 28.609375 65.921875 \r\nQ 23.96875 65.921875 18.8125 64.3125 \r\nQ 13.671875 62.703125 7.8125 59.421875 \r\nL 7.8125 69.390625 \r\nQ 13.765625 71.78125 18.9375 73 \r\nQ 24.125 74.21875 28.421875 74.21875 \r\nQ 39.75 74.21875 46.484375 68.546875 \r\nQ 53.21875 62.890625 53.21875 53.421875 \r\nQ 53.21875 48.921875 51.53125 44.890625 \r\nQ 49.859375 40.875 45.40625 35.40625 \r\nQ 44.1875 33.984375 37.640625 27.21875 \r\nQ 31.109375 20.453125 19.1875 8.296875 \r\nz\r\n\" id=\"DejaVuSans-50\"/>\r\n      </defs>\r\n      <g transform=\"translate(64.282386 254.356563)scale(0.1 -0.1)\">\r\n       <use xlink:href=\"#DejaVuSans-50\"/>\r\n       <use x=\"63.623047\" xlink:href=\"#DejaVuSans-48\"/>\r\n       <use x=\"127.246094\" xlink:href=\"#DejaVuSans-48\"/>\r\n       <use x=\"190.869141\" xlink:href=\"#DejaVuSans-48\"/>\r\n       <use x=\"254.492188\" xlink:href=\"#DejaVuSans-48\"/>\r\n      </g>\r\n     </g>\r\n    </g>\r\n    <g id=\"xtick_3\">\r\n     <g id=\"line2d_3\">\r\n      <g>\r\n       <use style=\"stroke:#000000;stroke-width:0.8;\" x=\"118.234091\" xlink:href=\"#m32e5e77d02\" y=\"239.758125\"/>\r\n      </g>\r\n     </g>\r\n     <g id=\"text_3\">\r\n      <!-- 30000 -->\r\n      <defs>\r\n       <path d=\"M 40.578125 39.3125 \r\nQ 47.65625 37.796875 51.625 33 \r\nQ 55.609375 28.21875 55.609375 21.1875 \r\nQ 55.609375 10.40625 48.1875 4.484375 \r\nQ 40.765625 -1.421875 27.09375 -1.421875 \r\nQ 22.515625 -1.421875 17.65625 -0.515625 \r\nQ 12.796875 0.390625 7.625 2.203125 \r\nL 7.625 11.71875 \r\nQ 11.71875 9.328125 16.59375 8.109375 \r\nQ 21.484375 6.890625 26.8125 6.890625 \r\nQ 36.078125 6.890625 40.9375 10.546875 \r\nQ 45.796875 14.203125 45.796875 21.1875 \r\nQ 45.796875 27.640625 41.28125 31.265625 \r\nQ 36.765625 34.90625 28.71875 34.90625 \r\nL 20.21875 34.90625 \r\nL 20.21875 43.015625 \r\nL 29.109375 43.015625 \r\nQ 36.375 43.015625 40.234375 45.921875 \r\nQ 44.09375 48.828125 44.09375 54.296875 \r\nQ 44.09375 59.90625 40.109375 62.90625 \r\nQ 36.140625 65.921875 28.71875 65.921875 \r\nQ 24.65625 65.921875 20.015625 65.03125 \r\nQ 15.375 64.15625 9.8125 62.3125 \r\nL 9.8125 71.09375 \r\nQ 15.4375 72.65625 20.34375 73.4375 \r\nQ 25.25 74.21875 29.59375 74.21875 \r\nQ 40.828125 74.21875 47.359375 69.109375 \r\nQ 53.90625 64.015625 53.90625 55.328125 \r\nQ 53.90625 49.265625 50.4375 45.09375 \r\nQ 46.96875 40.921875 40.578125 39.3125 \r\nz\r\n\" id=\"DejaVuSans-51\"/>\r\n      </defs>\r\n      <g transform=\"translate(102.327841 254.356563)scale(0.1 -0.1)\">\r\n       <use xlink:href=\"#DejaVuSans-51\"/>\r\n       <use x=\"63.623047\" xlink:href=\"#DejaVuSans-48\"/>\r\n       <use x=\"127.246094\" xlink:href=\"#DejaVuSans-48\"/>\r\n       <use x=\"190.869141\" xlink:href=\"#DejaVuSans-48\"/>\r\n       <use x=\"254.492188\" xlink:href=\"#DejaVuSans-48\"/>\r\n      </g>\r\n     </g>\r\n    </g>\r\n    <g id=\"xtick_4\">\r\n     <g id=\"line2d_4\">\r\n      <g>\r\n       <use style=\"stroke:#000000;stroke-width:0.8;\" x=\"156.279545\" xlink:href=\"#m32e5e77d02\" y=\"239.758125\"/>\r\n      </g>\r\n     </g>\r\n     <g id=\"text_4\">\r\n      <!-- 40000 -->\r\n      <defs>\r\n       <path d=\"M 37.796875 64.3125 \r\nL 12.890625 25.390625 \r\nL 37.796875 25.390625 \r\nz\r\nM 35.203125 72.90625 \r\nL 47.609375 72.90625 \r\nL 47.609375 25.390625 \r\nL 58.015625 25.390625 \r\nL 58.015625 17.1875 \r\nL 47.609375 17.1875 \r\nL 47.609375 0 \r\nL 37.796875 0 \r\nL 37.796875 17.1875 \r\nL 4.890625 17.1875 \r\nL 4.890625 26.703125 \r\nz\r\n\" id=\"DejaVuSans-52\"/>\r\n      </defs>\r\n      <g transform=\"translate(140.373295 254.356563)scale(0.1 -0.1)\">\r\n       <use xlink:href=\"#DejaVuSans-52\"/>\r\n       <use x=\"63.623047\" xlink:href=\"#DejaVuSans-48\"/>\r\n       <use x=\"127.246094\" xlink:href=\"#DejaVuSans-48\"/>\r\n       <use x=\"190.869141\" xlink:href=\"#DejaVuSans-48\"/>\r\n       <use x=\"254.492188\" xlink:href=\"#DejaVuSans-48\"/>\r\n      </g>\r\n     </g>\r\n    </g>\r\n    <g id=\"xtick_5\">\r\n     <g id=\"line2d_5\">\r\n      <g>\r\n       <use style=\"stroke:#000000;stroke-width:0.8;\" x=\"194.325\" xlink:href=\"#m32e5e77d02\" y=\"239.758125\"/>\r\n      </g>\r\n     </g>\r\n     <g id=\"text_5\">\r\n      <!-- 50000 -->\r\n      <defs>\r\n       <path d=\"M 10.796875 72.90625 \r\nL 49.515625 72.90625 \r\nL 49.515625 64.59375 \r\nL 19.828125 64.59375 \r\nL 19.828125 46.734375 \r\nQ 21.96875 47.46875 24.109375 47.828125 \r\nQ 26.265625 48.1875 28.421875 48.1875 \r\nQ 40.625 48.1875 47.75 41.5 \r\nQ 54.890625 34.8125 54.890625 23.390625 \r\nQ 54.890625 11.625 47.5625 5.09375 \r\nQ 40.234375 -1.421875 26.90625 -1.421875 \r\nQ 22.3125 -1.421875 17.546875 -0.640625 \r\nQ 12.796875 0.140625 7.71875 1.703125 \r\nL 7.71875 11.625 \r\nQ 12.109375 9.234375 16.796875 8.0625 \r\nQ 21.484375 6.890625 26.703125 6.890625 \r\nQ 35.15625 6.890625 40.078125 11.328125 \r\nQ 45.015625 15.765625 45.015625 23.390625 \r\nQ 45.015625 31 40.078125 35.4375 \r\nQ 35.15625 39.890625 26.703125 39.890625 \r\nQ 22.75 39.890625 18.8125 39.015625 \r\nQ 14.890625 38.140625 10.796875 36.28125 \r\nz\r\n\" id=\"DejaVuSans-53\"/>\r\n      </defs>\r\n      <g transform=\"translate(178.41875 254.356563)scale(0.1 -0.1)\">\r\n       <use xlink:href=\"#DejaVuSans-53\"/>\r\n       <use x=\"63.623047\" xlink:href=\"#DejaVuSans-48\"/>\r\n       <use x=\"127.246094\" xlink:href=\"#DejaVuSans-48\"/>\r\n       <use x=\"190.869141\" xlink:href=\"#DejaVuSans-48\"/>\r\n       <use x=\"254.492188\" xlink:href=\"#DejaVuSans-48\"/>\r\n      </g>\r\n     </g>\r\n    </g>\r\n    <g id=\"xtick_6\">\r\n     <g id=\"line2d_6\">\r\n      <g>\r\n       <use style=\"stroke:#000000;stroke-width:0.8;\" x=\"232.370455\" xlink:href=\"#m32e5e77d02\" y=\"239.758125\"/>\r\n      </g>\r\n     </g>\r\n     <g id=\"text_6\">\r\n      <!-- 60000 -->\r\n      <defs>\r\n       <path d=\"M 33.015625 40.375 \r\nQ 26.375 40.375 22.484375 35.828125 \r\nQ 18.609375 31.296875 18.609375 23.390625 \r\nQ 18.609375 15.53125 22.484375 10.953125 \r\nQ 26.375 6.390625 33.015625 6.390625 \r\nQ 39.65625 6.390625 43.53125 10.953125 \r\nQ 47.40625 15.53125 47.40625 23.390625 \r\nQ 47.40625 31.296875 43.53125 35.828125 \r\nQ 39.65625 40.375 33.015625 40.375 \r\nz\r\nM 52.59375 71.296875 \r\nL 52.59375 62.3125 \r\nQ 48.875 64.0625 45.09375 64.984375 \r\nQ 41.3125 65.921875 37.59375 65.921875 \r\nQ 27.828125 65.921875 22.671875 59.328125 \r\nQ 17.53125 52.734375 16.796875 39.40625 \r\nQ 19.671875 43.65625 24.015625 45.921875 \r\nQ 28.375 48.1875 33.59375 48.1875 \r\nQ 44.578125 48.1875 50.953125 41.515625 \r\nQ 57.328125 34.859375 57.328125 23.390625 \r\nQ 57.328125 12.15625 50.6875 5.359375 \r\nQ 44.046875 -1.421875 33.015625 -1.421875 \r\nQ 20.359375 -1.421875 13.671875 8.265625 \r\nQ 6.984375 17.96875 6.984375 36.375 \r\nQ 6.984375 53.65625 15.1875 63.9375 \r\nQ 23.390625 74.21875 37.203125 74.21875 \r\nQ 40.921875 74.21875 44.703125 73.484375 \r\nQ 48.484375 72.75 52.59375 71.296875 \r\nz\r\n\" id=\"DejaVuSans-54\"/>\r\n      </defs>\r\n      <g transform=\"translate(216.464205 254.356563)scale(0.1 -0.1)\">\r\n       <use xlink:href=\"#DejaVuSans-54\"/>\r\n       <use x=\"63.623047\" xlink:href=\"#DejaVuSans-48\"/>\r\n       <use x=\"127.246094\" xlink:href=\"#DejaVuSans-48\"/>\r\n       <use x=\"190.869141\" xlink:href=\"#DejaVuSans-48\"/>\r\n       <use x=\"254.492188\" xlink:href=\"#DejaVuSans-48\"/>\r\n      </g>\r\n     </g>\r\n    </g>\r\n    <g id=\"xtick_7\">\r\n     <g id=\"line2d_7\">\r\n      <g>\r\n       <use style=\"stroke:#000000;stroke-width:0.8;\" x=\"270.415909\" xlink:href=\"#m32e5e77d02\" y=\"239.758125\"/>\r\n      </g>\r\n     </g>\r\n     <g id=\"text_7\">\r\n      <!-- 70000 -->\r\n      <defs>\r\n       <path d=\"M 8.203125 72.90625 \r\nL 55.078125 72.90625 \r\nL 55.078125 68.703125 \r\nL 28.609375 0 \r\nL 18.3125 0 \r\nL 43.21875 64.59375 \r\nL 8.203125 64.59375 \r\nz\r\n\" id=\"DejaVuSans-55\"/>\r\n      </defs>\r\n      <g transform=\"translate(254.509659 254.356563)scale(0.1 -0.1)\">\r\n       <use xlink:href=\"#DejaVuSans-55\"/>\r\n       <use x=\"63.623047\" xlink:href=\"#DejaVuSans-48\"/>\r\n       <use x=\"127.246094\" xlink:href=\"#DejaVuSans-48\"/>\r\n       <use x=\"190.869141\" xlink:href=\"#DejaVuSans-48\"/>\r\n       <use x=\"254.492188\" xlink:href=\"#DejaVuSans-48\"/>\r\n      </g>\r\n     </g>\r\n    </g>\r\n    <g id=\"xtick_8\">\r\n     <g id=\"line2d_8\">\r\n      <g>\r\n       <use style=\"stroke:#000000;stroke-width:0.8;\" x=\"308.461364\" xlink:href=\"#m32e5e77d02\" y=\"239.758125\"/>\r\n      </g>\r\n     </g>\r\n     <g id=\"text_8\">\r\n      <!-- 80000 -->\r\n      <defs>\r\n       <path d=\"M 31.78125 34.625 \r\nQ 24.75 34.625 20.71875 30.859375 \r\nQ 16.703125 27.09375 16.703125 20.515625 \r\nQ 16.703125 13.921875 20.71875 10.15625 \r\nQ 24.75 6.390625 31.78125 6.390625 \r\nQ 38.8125 6.390625 42.859375 10.171875 \r\nQ 46.921875 13.96875 46.921875 20.515625 \r\nQ 46.921875 27.09375 42.890625 30.859375 \r\nQ 38.875 34.625 31.78125 34.625 \r\nz\r\nM 21.921875 38.8125 \r\nQ 15.578125 40.375 12.03125 44.71875 \r\nQ 8.5 49.078125 8.5 55.328125 \r\nQ 8.5 64.0625 14.71875 69.140625 \r\nQ 20.953125 74.21875 31.78125 74.21875 \r\nQ 42.671875 74.21875 48.875 69.140625 \r\nQ 55.078125 64.0625 55.078125 55.328125 \r\nQ 55.078125 49.078125 51.53125 44.71875 \r\nQ 48 40.375 41.703125 38.8125 \r\nQ 48.828125 37.15625 52.796875 32.3125 \r\nQ 56.78125 27.484375 56.78125 20.515625 \r\nQ 56.78125 9.90625 50.3125 4.234375 \r\nQ 43.84375 -1.421875 31.78125 -1.421875 \r\nQ 19.734375 -1.421875 13.25 4.234375 \r\nQ 6.78125 9.90625 6.78125 20.515625 \r\nQ 6.78125 27.484375 10.78125 32.3125 \r\nQ 14.796875 37.15625 21.921875 38.8125 \r\nz\r\nM 18.3125 54.390625 \r\nQ 18.3125 48.734375 21.84375 45.5625 \r\nQ 25.390625 42.390625 31.78125 42.390625 \r\nQ 38.140625 42.390625 41.71875 45.5625 \r\nQ 45.3125 48.734375 45.3125 54.390625 \r\nQ 45.3125 60.0625 41.71875 63.234375 \r\nQ 38.140625 66.40625 31.78125 66.40625 \r\nQ 25.390625 66.40625 21.84375 63.234375 \r\nQ 18.3125 60.0625 18.3125 54.390625 \r\nz\r\n\" id=\"DejaVuSans-56\"/>\r\n      </defs>\r\n      <g transform=\"translate(292.555114 254.356563)scale(0.1 -0.1)\">\r\n       <use xlink:href=\"#DejaVuSans-56\"/>\r\n       <use x=\"63.623047\" xlink:href=\"#DejaVuSans-48\"/>\r\n       <use x=\"127.246094\" xlink:href=\"#DejaVuSans-48\"/>\r\n       <use x=\"190.869141\" xlink:href=\"#DejaVuSans-48\"/>\r\n       <use x=\"254.492188\" xlink:href=\"#DejaVuSans-48\"/>\r\n      </g>\r\n     </g>\r\n    </g>\r\n    <g id=\"xtick_9\">\r\n     <g id=\"line2d_9\">\r\n      <g>\r\n       <use style=\"stroke:#000000;stroke-width:0.8;\" x=\"346.506818\" xlink:href=\"#m32e5e77d02\" y=\"239.758125\"/>\r\n      </g>\r\n     </g>\r\n     <g id=\"text_9\">\r\n      <!-- 90000 -->\r\n      <defs>\r\n       <path d=\"M 10.984375 1.515625 \r\nL 10.984375 10.5 \r\nQ 14.703125 8.734375 18.5 7.8125 \r\nQ 22.3125 6.890625 25.984375 6.890625 \r\nQ 35.75 6.890625 40.890625 13.453125 \r\nQ 46.046875 20.015625 46.78125 33.40625 \r\nQ 43.953125 29.203125 39.59375 26.953125 \r\nQ 35.25 24.703125 29.984375 24.703125 \r\nQ 19.046875 24.703125 12.671875 31.3125 \r\nQ 6.296875 37.9375 6.296875 49.421875 \r\nQ 6.296875 60.640625 12.9375 67.421875 \r\nQ 19.578125 74.21875 30.609375 74.21875 \r\nQ 43.265625 74.21875 49.921875 64.515625 \r\nQ 56.59375 54.828125 56.59375 36.375 \r\nQ 56.59375 19.140625 48.40625 8.859375 \r\nQ 40.234375 -1.421875 26.421875 -1.421875 \r\nQ 22.703125 -1.421875 18.890625 -0.6875 \r\nQ 15.09375 0.046875 10.984375 1.515625 \r\nz\r\nM 30.609375 32.421875 \r\nQ 37.25 32.421875 41.125 36.953125 \r\nQ 45.015625 41.5 45.015625 49.421875 \r\nQ 45.015625 57.28125 41.125 61.84375 \r\nQ 37.25 66.40625 30.609375 66.40625 \r\nQ 23.96875 66.40625 20.09375 61.84375 \r\nQ 16.21875 57.28125 16.21875 49.421875 \r\nQ 16.21875 41.5 20.09375 36.953125 \r\nQ 23.96875 32.421875 30.609375 32.421875 \r\nz\r\n\" id=\"DejaVuSans-57\"/>\r\n      </defs>\r\n      <g transform=\"translate(330.600568 254.356563)scale(0.1 -0.1)\">\r\n       <use xlink:href=\"#DejaVuSans-57\"/>\r\n       <use x=\"63.623047\" xlink:href=\"#DejaVuSans-48\"/>\r\n       <use x=\"127.246094\" xlink:href=\"#DejaVuSans-48\"/>\r\n       <use x=\"190.869141\" xlink:href=\"#DejaVuSans-48\"/>\r\n       <use x=\"254.492188\" xlink:href=\"#DejaVuSans-48\"/>\r\n      </g>\r\n     </g>\r\n    </g>\r\n   </g>\r\n   <g id=\"matplotlib.axis_2\">\r\n    <g id=\"ytick_1\">\r\n     <g id=\"line2d_10\">\r\n      <defs>\r\n       <path d=\"M 0 0 \r\nL -3.5 0 \r\n\" id=\"mff242cae7d\" style=\"stroke:#000000;stroke-width:0.8;\"/>\r\n      </defs>\r\n      <g>\r\n       <use style=\"stroke:#000000;stroke-width:0.8;\" x=\"26.925\" xlink:href=\"#mff242cae7d\" y=\"234.337115\"/>\r\n      </g>\r\n     </g>\r\n     <g id=\"text_10\">\r\n      <!-- 0 -->\r\n      <g transform=\"translate(13.5625 238.136334)scale(0.1 -0.1)\">\r\n       <use xlink:href=\"#DejaVuSans-48\"/>\r\n      </g>\r\n     </g>\r\n    </g>\r\n    <g id=\"ytick_2\">\r\n     <g id=\"line2d_11\">\r\n      <g>\r\n       <use style=\"stroke:#000000;stroke-width:0.8;\" x=\"26.925\" xlink:href=\"#mff242cae7d\" y=\"197.632008\"/>\r\n      </g>\r\n     </g>\r\n     <g id=\"text_11\">\r\n      <!-- 5 -->\r\n      <g transform=\"translate(13.5625 201.431226)scale(0.1 -0.1)\">\r\n       <use xlink:href=\"#DejaVuSans-53\"/>\r\n      </g>\r\n     </g>\r\n    </g>\r\n    <g id=\"ytick_3\">\r\n     <g id=\"line2d_12\">\r\n      <g>\r\n       <use style=\"stroke:#000000;stroke-width:0.8;\" x=\"26.925\" xlink:href=\"#mff242cae7d\" y=\"160.9269\"/>\r\n      </g>\r\n     </g>\r\n     <g id=\"text_12\">\r\n      <!-- 10 -->\r\n      <g transform=\"translate(7.2 164.726119)scale(0.1 -0.1)\">\r\n       <use xlink:href=\"#DejaVuSans-49\"/>\r\n       <use x=\"63.623047\" xlink:href=\"#DejaVuSans-48\"/>\r\n      </g>\r\n     </g>\r\n    </g>\r\n    <g id=\"ytick_4\">\r\n     <g id=\"line2d_13\">\r\n      <g>\r\n       <use style=\"stroke:#000000;stroke-width:0.8;\" x=\"26.925\" xlink:href=\"#mff242cae7d\" y=\"124.221792\"/>\r\n      </g>\r\n     </g>\r\n     <g id=\"text_13\">\r\n      <!-- 15 -->\r\n      <g transform=\"translate(7.2 128.021011)scale(0.1 -0.1)\">\r\n       <use xlink:href=\"#DejaVuSans-49\"/>\r\n       <use x=\"63.623047\" xlink:href=\"#DejaVuSans-53\"/>\r\n      </g>\r\n     </g>\r\n    </g>\r\n    <g id=\"ytick_5\">\r\n     <g id=\"line2d_14\">\r\n      <g>\r\n       <use style=\"stroke:#000000;stroke-width:0.8;\" x=\"26.925\" xlink:href=\"#mff242cae7d\" y=\"87.516685\"/>\r\n      </g>\r\n     </g>\r\n     <g id=\"text_14\">\r\n      <!-- 20 -->\r\n      <g transform=\"translate(7.2 91.315903)scale(0.1 -0.1)\">\r\n       <use xlink:href=\"#DejaVuSans-50\"/>\r\n       <use x=\"63.623047\" xlink:href=\"#DejaVuSans-48\"/>\r\n      </g>\r\n     </g>\r\n    </g>\r\n    <g id=\"ytick_6\">\r\n     <g id=\"line2d_15\">\r\n      <g>\r\n       <use style=\"stroke:#000000;stroke-width:0.8;\" x=\"26.925\" xlink:href=\"#mff242cae7d\" y=\"50.811577\"/>\r\n      </g>\r\n     </g>\r\n     <g id=\"text_15\">\r\n      <!-- 25 -->\r\n      <g transform=\"translate(7.2 54.610796)scale(0.1 -0.1)\">\r\n       <use xlink:href=\"#DejaVuSans-50\"/>\r\n       <use x=\"63.623047\" xlink:href=\"#DejaVuSans-53\"/>\r\n      </g>\r\n     </g>\r\n    </g>\r\n   </g>\r\n   <g id=\"line2d_16\">\r\n    <path clip-path=\"url(#p54cad96cb2)\" d=\"M 42.143182 229.874489 \r\nL 80.188636 219.529469 \r\nL 118.234091 203.234759 \r\nL 156.279545 183.883119 \r\nL 194.325 158.659859 \r\nL 232.370455 128.867183 \r\nL 270.415909 83.906957 \r\nL 308.461364 66.728487 \r\nL 346.506818 32.201761 \r\n\" style=\"fill:none;stroke:#1f77b4;stroke-linecap:square;stroke-width:1.5;\"/>\r\n   </g>\r\n   <g id=\"patch_3\">\r\n    <path d=\"M 26.925 239.758125 \r\nL 26.925 22.318125 \r\n\" style=\"fill:none;stroke:#000000;stroke-linecap:square;stroke-linejoin:miter;stroke-width:0.8;\"/>\r\n   </g>\r\n   <g id=\"patch_4\">\r\n    <path d=\"M 361.725 239.758125 \r\nL 361.725 22.318125 \r\n\" style=\"fill:none;stroke:#000000;stroke-linecap:square;stroke-linejoin:miter;stroke-width:0.8;\"/>\r\n   </g>\r\n   <g id=\"patch_5\">\r\n    <path d=\"M 26.925 239.758125 \r\nL 361.725 239.758125 \r\n\" style=\"fill:none;stroke:#000000;stroke-linecap:square;stroke-linejoin:miter;stroke-width:0.8;\"/>\r\n   </g>\r\n   <g id=\"patch_6\">\r\n    <path d=\"M 26.925 22.318125 \r\nL 361.725 22.318125 \r\n\" style=\"fill:none;stroke:#000000;stroke-linecap:square;stroke-linejoin:miter;stroke-width:0.8;\"/>\r\n   </g>\r\n   <g id=\"text_16\">\r\n    <!-- Runtime -->\r\n    <defs>\r\n     <path d=\"M 44.390625 34.1875 \r\nQ 47.5625 33.109375 50.5625 29.59375 \r\nQ 53.5625 26.078125 56.59375 19.921875 \r\nL 66.609375 0 \r\nL 56 0 \r\nL 46.6875 18.703125 \r\nQ 43.0625 26.03125 39.671875 28.421875 \r\nQ 36.28125 30.8125 30.421875 30.8125 \r\nL 19.671875 30.8125 \r\nL 19.671875 0 \r\nL 9.8125 0 \r\nL 9.8125 72.90625 \r\nL 32.078125 72.90625 \r\nQ 44.578125 72.90625 50.734375 67.671875 \r\nQ 56.890625 62.453125 56.890625 51.90625 \r\nQ 56.890625 45.015625 53.6875 40.46875 \r\nQ 50.484375 35.9375 44.390625 34.1875 \r\nz\r\nM 19.671875 64.796875 \r\nL 19.671875 38.921875 \r\nL 32.078125 38.921875 \r\nQ 39.203125 38.921875 42.84375 42.21875 \r\nQ 46.484375 45.515625 46.484375 51.90625 \r\nQ 46.484375 58.296875 42.84375 61.546875 \r\nQ 39.203125 64.796875 32.078125 64.796875 \r\nz\r\n\" id=\"DejaVuSans-82\"/>\r\n     <path d=\"M 8.5 21.578125 \r\nL 8.5 54.6875 \r\nL 17.484375 54.6875 \r\nL 17.484375 21.921875 \r\nQ 17.484375 14.15625 20.5 10.265625 \r\nQ 23.53125 6.390625 29.59375 6.390625 \r\nQ 36.859375 6.390625 41.078125 11.03125 \r\nQ 45.3125 15.671875 45.3125 23.6875 \r\nL 45.3125 54.6875 \r\nL 54.296875 54.6875 \r\nL 54.296875 0 \r\nL 45.3125 0 \r\nL 45.3125 8.40625 \r\nQ 42.046875 3.421875 37.71875 1 \r\nQ 33.40625 -1.421875 27.6875 -1.421875 \r\nQ 18.265625 -1.421875 13.375 4.4375 \r\nQ 8.5 10.296875 8.5 21.578125 \r\nz\r\nM 31.109375 56 \r\nz\r\n\" id=\"DejaVuSans-117\"/>\r\n     <path d=\"M 54.890625 33.015625 \r\nL 54.890625 0 \r\nL 45.90625 0 \r\nL 45.90625 32.71875 \r\nQ 45.90625 40.484375 42.875 44.328125 \r\nQ 39.84375 48.1875 33.796875 48.1875 \r\nQ 26.515625 48.1875 22.3125 43.546875 \r\nQ 18.109375 38.921875 18.109375 30.90625 \r\nL 18.109375 0 \r\nL 9.078125 0 \r\nL 9.078125 54.6875 \r\nL 18.109375 54.6875 \r\nL 18.109375 46.1875 \r\nQ 21.34375 51.125 25.703125 53.5625 \r\nQ 30.078125 56 35.796875 56 \r\nQ 45.21875 56 50.046875 50.171875 \r\nQ 54.890625 44.34375 54.890625 33.015625 \r\nz\r\n\" id=\"DejaVuSans-110\"/>\r\n     <path d=\"M 18.3125 70.21875 \r\nL 18.3125 54.6875 \r\nL 36.8125 54.6875 \r\nL 36.8125 47.703125 \r\nL 18.3125 47.703125 \r\nL 18.3125 18.015625 \r\nQ 18.3125 11.328125 20.140625 9.421875 \r\nQ 21.96875 7.515625 27.59375 7.515625 \r\nL 36.8125 7.515625 \r\nL 36.8125 0 \r\nL 27.59375 0 \r\nQ 17.1875 0 13.234375 3.875 \r\nQ 9.28125 7.765625 9.28125 18.015625 \r\nL 9.28125 47.703125 \r\nL 2.6875 47.703125 \r\nL 2.6875 54.6875 \r\nL 9.28125 54.6875 \r\nL 9.28125 70.21875 \r\nz\r\n\" id=\"DejaVuSans-116\"/>\r\n     <path d=\"M 9.421875 54.6875 \r\nL 18.40625 54.6875 \r\nL 18.40625 0 \r\nL 9.421875 0 \r\nz\r\nM 9.421875 75.984375 \r\nL 18.40625 75.984375 \r\nL 18.40625 64.59375 \r\nL 9.421875 64.59375 \r\nz\r\n\" id=\"DejaVuSans-105\"/>\r\n     <path d=\"M 52 44.1875 \r\nQ 55.375 50.25 60.0625 53.125 \r\nQ 64.75 56 71.09375 56 \r\nQ 79.640625 56 84.28125 50.015625 \r\nQ 88.921875 44.046875 88.921875 33.015625 \r\nL 88.921875 0 \r\nL 79.890625 0 \r\nL 79.890625 32.71875 \r\nQ 79.890625 40.578125 77.09375 44.375 \r\nQ 74.3125 48.1875 68.609375 48.1875 \r\nQ 61.625 48.1875 57.5625 43.546875 \r\nQ 53.515625 38.921875 53.515625 30.90625 \r\nL 53.515625 0 \r\nL 44.484375 0 \r\nL 44.484375 32.71875 \r\nQ 44.484375 40.625 41.703125 44.40625 \r\nQ 38.921875 48.1875 33.109375 48.1875 \r\nQ 26.21875 48.1875 22.15625 43.53125 \r\nQ 18.109375 38.875 18.109375 30.90625 \r\nL 18.109375 0 \r\nL 9.078125 0 \r\nL 9.078125 54.6875 \r\nL 18.109375 54.6875 \r\nL 18.109375 46.1875 \r\nQ 21.1875 51.21875 25.484375 53.609375 \r\nQ 29.78125 56 35.6875 56 \r\nQ 41.65625 56 45.828125 52.96875 \r\nQ 50 49.953125 52 44.1875 \r\nz\r\n\" id=\"DejaVuSans-109\"/>\r\n     <path d=\"M 56.203125 29.59375 \r\nL 56.203125 25.203125 \r\nL 14.890625 25.203125 \r\nQ 15.484375 15.921875 20.484375 11.0625 \r\nQ 25.484375 6.203125 34.421875 6.203125 \r\nQ 39.59375 6.203125 44.453125 7.46875 \r\nQ 49.3125 8.734375 54.109375 11.28125 \r\nL 54.109375 2.78125 \r\nQ 49.265625 0.734375 44.1875 -0.34375 \r\nQ 39.109375 -1.421875 33.890625 -1.421875 \r\nQ 20.796875 -1.421875 13.15625 6.1875 \r\nQ 5.515625 13.8125 5.515625 26.8125 \r\nQ 5.515625 40.234375 12.765625 48.109375 \r\nQ 20.015625 56 32.328125 56 \r\nQ 43.359375 56 49.78125 48.890625 \r\nQ 56.203125 41.796875 56.203125 29.59375 \r\nz\r\nM 47.21875 32.234375 \r\nQ 47.125 39.59375 43.09375 43.984375 \r\nQ 39.0625 48.390625 32.421875 48.390625 \r\nQ 24.90625 48.390625 20.390625 44.140625 \r\nQ 15.875 39.890625 15.1875 32.171875 \r\nz\r\n\" id=\"DejaVuSans-101\"/>\r\n    </defs>\r\n    <g transform=\"translate(169.265625 16.318125)scale(0.12 -0.12)\">\r\n     <use xlink:href=\"#DejaVuSans-82\"/>\r\n     <use x=\"64.982422\" xlink:href=\"#DejaVuSans-117\"/>\r\n     <use x=\"128.361328\" xlink:href=\"#DejaVuSans-110\"/>\r\n     <use x=\"191.740234\" xlink:href=\"#DejaVuSans-116\"/>\r\n     <use x=\"230.949219\" xlink:href=\"#DejaVuSans-105\"/>\r\n     <use x=\"258.732422\" xlink:href=\"#DejaVuSans-109\"/>\r\n     <use x=\"356.144531\" xlink:href=\"#DejaVuSans-101\"/>\r\n    </g>\r\n   </g>\r\n  </g>\r\n </g>\r\n <defs>\r\n  <clipPath id=\"p54cad96cb2\">\r\n   <rect height=\"217.44\" width=\"334.8\" x=\"26.925\" y=\"22.318125\"/>\r\n  </clipPath>\r\n </defs>\r\n</svg>\r\n",
      "image/png": "[encoded data removed]"
     },
     "metadata": {
      "needs_background": "light"
     }
    }
   ],
   "source": [
    "import matplotlib.pyplot as plt\n",
    "n_list = []\n",
    "for size in range(10000,100000,10000):\n",
    "    n_list.append(size)\n",
    "\n",
    "plt.plot(n_list,exec_time)\n",
    "plt.title(\"Runtime\")\n"
   ]
  },
  {
   "cell_type": "code",
   "execution_count": null,
   "metadata": {},
   "outputs": [],
   "source": []
  }
 ],
 "metadata": {
  "kernelspec": {
   "name": "python383jvsc74a57bd0ba7d381a7320e8ab0820bd1b62e94521294792d6ec93168b850842f0e445242e",
   "display_name": "Python 3.8.3 64-bit ('base': conda)"
  },
  "language_info": {
   "codemirror_mode": {
    "name": "ipython",
    "version": 3
   },
   "file_extension": ".py",
   "mimetype": "text/x-python",
   "name": "python",
   "nbconvert_exporter": "python",
   "pygments_lexer": "ipython3",
   "version": "3.8.3"
  }
 },
 "nbformat": 4,
 "nbformat_minor": 2
}